{
  "nbformat": 4,
  "nbformat_minor": 0,
  "metadata": {
    "colab": {
      "provenance": [],
      "include_colab_link": true
    },
    "kernelspec": {
      "name": "python3",
      "display_name": "Python 3"
    },
    "language_info": {
      "name": "python"
    }
  },
  "cells": [
    {
      "cell_type": "markdown",
      "metadata": {
        "id": "view-in-github",
        "colab_type": "text"
      },
      "source": [
        "<a href=\"https://colab.research.google.com/github/vypham2401/data-analytics/blob/main/SENKENII.ipynb\" target=\"_parent\"><img src=\"https://colab.research.google.com/assets/colab-badge.svg\" alt=\"Open In Colab\"/></a>"
      ]
    },
    {
      "cell_type": "markdown",
      "source": [
        "API Work "
      ],
      "metadata": {
        "id": "fAW6QHn5gylH"
      }
    },
    {
      "cell_type": "code",
      "source": [
        "import requests\n",
        "import pandas as pd\n",
        "import time\n",
        "import json\n",
        "from time import sleep\n",
        "from pandas import json_normalize "
      ],
      "metadata": {
        "id": "iUX83nhNgwlh"
      },
      "execution_count": null,
      "outputs": []
    },
    {
      "cell_type": "code",
      "source": [
        "#function for reassigning keys in json response\n",
        "def relabel(dictionary, token_id, pool_id, resolution):\n",
        "    full_labels =[\"Datetime\", \"Open\", \"High\", \"Low\", \"Close\", \"Volume\", \"Time of Request\", \"Token_ID\", \"Pool_ID\", \"Resolution\"]\n",
        "    #decided to add this column because the datetime the json returns is the timestamp for the ohlc. Sometimes it wont change\n",
        "    #and so it will give us the same time stamp. Adding this column gives us the over time aspect.\n",
        "    dictionary.update({\"Time of Request\" : pd.to_datetime((int(time.time())//60 * 60), unit='s')})\n",
        "    dictionary.update({\"Token_ID\" : token_id})\n",
        "    dictionary.update({\"Pool_ID\" : pool_id})\n",
        "    dictionary.update({\"Resolution\" : resolution})\n",
        "    return dict(zip(full_labels, list(dictionary.values())))"
      ],
      "metadata": {
        "id": "yNwb2CmXg4xd"
      },
      "execution_count": null,
      "outputs": []
    },
    {
      "cell_type": "code",
      "source": [
        "#initialize query parameters\n",
        "\n",
        "#token id for NCT \n",
        "token_id=\"2609763\"\n",
        "#pool id, don't 100% know what this is \n",
        "pool_id=\"148205730\"\n",
        "#frequency, here it is 1 minute\n",
        "resolution=\"1\"\n",
        "#the time stamp of the last change in ohlc\n",
        "from_time=\"1660403580\"\n",
        "#the time stamp of the minute we want to check to\n",
        "to_time=\"1660529400\"\n",
        "\n",
        "#request url\n",
        "url = \"https://app.geckoterminal.com/contracts/1/candlesticks.json?token_id=2609763&pool_id=148205730&resolution=1&from=1660403580&to=1660527600&for_update=true\"\n",
        "#initialize request headers\n",
        "headers = {\n",
        "\t\"Request Headers (542 B)\": {\n",
        "\t\t\"headers\": [\n",
        "\t\t\t{\n",
        "\t\t\t\t\"name\": \"Accept\",\n",
        "\t\t\t\t\"value\": \"*/*\"\n",
        "\t\t\t},\n",
        "\t\t\t{\n",
        "\t\t\t\t\"name\": \"Accept-Encoding\",\n",
        "\t\t\t\t\"value\": \"gzip, deflate, br\"\n",
        "\t\t\t},\n",
        "\t\t\t{\n",
        "\t\t\t\t\"name\": \"Accept-Language\",\n",
        "\t\t\t\t\"value\": \"en-US,en;q=0.5\"\n",
        "\t\t\t},\n",
        "\t\t\t{\n",
        "\t\t\t\t\"name\": \"Connection\",\n",
        "\t\t\t\t\"value\": \"keep-alive\"\n",
        "\t\t\t},\n",
        "\t\t\t{\n",
        "\t\t\t\t\"name\": \"DNT\",\n",
        "\t\t\t\t\"value\": \"1\"\n",
        "\t\t\t},\n",
        "\t\t\t{\n",
        "\t\t\t\t\"name\": \"Host\",\n",
        "\t\t\t\t\"value\": \"app.geckoterminal.com\"\n",
        "\t\t\t},\n",
        "\t\t\t{\n",
        "\t\t\t\t\"name\": \"Origin\",\n",
        "\t\t\t\t\"value\": \"https://www.geckoterminal.com\"\n",
        "\t\t\t},\n",
        "\t\t\t{\n",
        "\t\t\t\t\"name\": \"Referer\",\n",
        "\t\t\t\t\"value\": \"https://www.geckoterminal.com/\"\n",
        "\t\t\t},\n",
        "\t\t\t{\n",
        "\t\t\t\t\"name\": \"Sec-Fetch-Dest\",\n",
        "\t\t\t\t\"value\": \"empty\"\n",
        "\t\t\t},\n",
        "\t\t\t{\n",
        "\t\t\t\t\"name\": \"Sec-Fetch-Mode\",\n",
        "\t\t\t\t\"value\": \"cors\"\n",
        "\t\t\t},\n",
        "\t\t\t{\n",
        "\t\t\t\t\"name\": \"Sec-Fetch-Site\",\n",
        "\t\t\t\t\"value\": \"same-site\"\n",
        "\t\t\t},\n",
        "\t\t\t{\n",
        "\t\t\t\t\"name\": \"Sec-GPC\",\n",
        "\t\t\t\t\"value\": \"1\"\n",
        "\t\t\t},\n",
        "\t\t\t{\n",
        "\t\t\t\t\"name\": \"TE\",\n",
        "\t\t\t\t\"value\": \"trailers\"\n",
        "\t\t\t},\n",
        "\t\t\t{\n",
        "\t\t\t\t\"name\": \"User-Agent\",\n",
        "\t\t\t\t\"value\": \"Mozilla/5.0 (Windows NT 10.0; Win64; x64; rv:103.0) Gecko/20100101 Firefox/103.0\"\n",
        "\t\t\t}\n",
        "\t\t]\n",
        "\t}\n",
        "}\n",
        "\n",
        "#make our first request and get the data frame started\n",
        "r = requests.get(url,headers)\n",
        "#read json down to the data we need\n",
        "pre_relabel_info = json.loads(r.text)[\"data\"][0]\n",
        "print(json.loads(r.text)[\"meta\"])\n",
        "trys = {}\n",
        "if (trys == json.loads(r.text)[\"meta\"]):\n",
        "    print(\"don't need quotes\")\n",
        "#make it pretty\n",
        "info = relabel(pre_relabel_info, token_id, pool_id, resolution)\n",
        "#create the dataframe\n",
        "df = json_normalize(info)\n",
        "\n",
        "df.head()"
      ],
      "metadata": {
        "colab": {
          "base_uri": "https://localhost:8080/",
          "height": 81
        },
        "id": "uZgFsI7vg46x",
        "outputId": "9b786c05-a2d1-47fe-c981-f0cda375d44d"
      },
      "execution_count": null,
      "outputs": [
        {
          "output_type": "execute_result",
          "data": {
            "text/plain": [
              "                   Datetime      Open      High       Low     Close  \\\n",
              "0  2022-08-12T19:51:00.000Z  2.307072  2.307072  2.307072  2.307072   \n",
              "\n",
              "       Volume     Time of Request Token_ID    Pool_ID Resolution  \n",
              "0  184.071002 2022-08-15 13:29:00  2609763  148205730          1  "
            ],
            "text/html": [
              "\n",
              "  <div id=\"df-e79e1e65-4a6b-439a-b39d-ee1a12f0a3a6\">\n",
              "    <div class=\"colab-df-container\">\n",
              "      <div>\n",
              "<style scoped>\n",
              "    .dataframe tbody tr th:only-of-type {\n",
              "        vertical-align: middle;\n",
              "    }\n",
              "\n",
              "    .dataframe tbody tr th {\n",
              "        vertical-align: top;\n",
              "    }\n",
              "\n",
              "    .dataframe thead th {\n",
              "        text-align: right;\n",
              "    }\n",
              "</style>\n",
              "<table border=\"1\" class=\"dataframe\">\n",
              "  <thead>\n",
              "    <tr style=\"text-align: right;\">\n",
              "      <th></th>\n",
              "      <th>Datetime</th>\n",
              "      <th>Open</th>\n",
              "      <th>High</th>\n",
              "      <th>Low</th>\n",
              "      <th>Close</th>\n",
              "      <th>Volume</th>\n",
              "      <th>Time of Request</th>\n",
              "      <th>Token_ID</th>\n",
              "      <th>Pool_ID</th>\n",
              "      <th>Resolution</th>\n",
              "    </tr>\n",
              "  </thead>\n",
              "  <tbody>\n",
              "    <tr>\n",
              "      <th>0</th>\n",
              "      <td>2022-08-12T19:51:00.000Z</td>\n",
              "      <td>2.307072</td>\n",
              "      <td>2.307072</td>\n",
              "      <td>2.307072</td>\n",
              "      <td>2.307072</td>\n",
              "      <td>184.071002</td>\n",
              "      <td>2022-08-15 13:29:00</td>\n",
              "      <td>2609763</td>\n",
              "      <td>148205730</td>\n",
              "      <td>1</td>\n",
              "    </tr>\n",
              "  </tbody>\n",
              "</table>\n",
              "</div>\n",
              "      <button class=\"colab-df-convert\" onclick=\"convertToInteractive('df-e79e1e65-4a6b-439a-b39d-ee1a12f0a3a6')\"\n",
              "              title=\"Convert this dataframe to an interactive table.\"\n",
              "              style=\"display:none;\">\n",
              "        \n",
              "  <svg xmlns=\"http://www.w3.org/2000/svg\" height=\"24px\"viewBox=\"0 0 24 24\"\n",
              "       width=\"24px\">\n",
              "    <path d=\"M0 0h24v24H0V0z\" fill=\"none\"/>\n",
              "    <path d=\"M18.56 5.44l.94 2.06.94-2.06 2.06-.94-2.06-.94-.94-2.06-.94 2.06-2.06.94zm-11 1L8.5 8.5l.94-2.06 2.06-.94-2.06-.94L8.5 2.5l-.94 2.06-2.06.94zm10 10l.94 2.06.94-2.06 2.06-.94-2.06-.94-.94-2.06-.94 2.06-2.06.94z\"/><path d=\"M17.41 7.96l-1.37-1.37c-.4-.4-.92-.59-1.43-.59-.52 0-1.04.2-1.43.59L10.3 9.45l-7.72 7.72c-.78.78-.78 2.05 0 2.83L4 21.41c.39.39.9.59 1.41.59.51 0 1.02-.2 1.41-.59l7.78-7.78 2.81-2.81c.8-.78.8-2.07 0-2.86zM5.41 20L4 18.59l7.72-7.72 1.47 1.35L5.41 20z\"/>\n",
              "  </svg>\n",
              "      </button>\n",
              "      \n",
              "  <style>\n",
              "    .colab-df-container {\n",
              "      display:flex;\n",
              "      flex-wrap:wrap;\n",
              "      gap: 12px;\n",
              "    }\n",
              "\n",
              "    .colab-df-convert {\n",
              "      background-color: #E8F0FE;\n",
              "      border: none;\n",
              "      border-radius: 50%;\n",
              "      cursor: pointer;\n",
              "      display: none;\n",
              "      fill: #1967D2;\n",
              "      height: 32px;\n",
              "      padding: 0 0 0 0;\n",
              "      width: 32px;\n",
              "    }\n",
              "\n",
              "    .colab-df-convert:hover {\n",
              "      background-color: #E2EBFA;\n",
              "      box-shadow: 0px 1px 2px rgba(60, 64, 67, 0.3), 0px 1px 3px 1px rgba(60, 64, 67, 0.15);\n",
              "      fill: #174EA6;\n",
              "    }\n",
              "\n",
              "    [theme=dark] .colab-df-convert {\n",
              "      background-color: #3B4455;\n",
              "      fill: #D2E3FC;\n",
              "    }\n",
              "\n",
              "    [theme=dark] .colab-df-convert:hover {\n",
              "      background-color: #434B5C;\n",
              "      box-shadow: 0px 1px 3px 1px rgba(0, 0, 0, 0.15);\n",
              "      filter: drop-shadow(0px 1px 2px rgba(0, 0, 0, 0.3));\n",
              "      fill: #FFFFFF;\n",
              "    }\n",
              "  </style>\n",
              "\n",
              "      <script>\n",
              "        const buttonEl =\n",
              "          document.querySelector('#df-e79e1e65-4a6b-439a-b39d-ee1a12f0a3a6 button.colab-df-convert');\n",
              "        buttonEl.style.display =\n",
              "          google.colab.kernel.accessAllowed ? 'block' : 'none';\n",
              "\n",
              "        async function convertToInteractive(key) {\n",
              "          const element = document.querySelector('#df-e79e1e65-4a6b-439a-b39d-ee1a12f0a3a6');\n",
              "          const dataTable =\n",
              "            await google.colab.kernel.invokeFunction('convertToInteractive',\n",
              "                                                     [key], {});\n",
              "          if (!dataTable) return;\n",
              "\n",
              "          const docLinkHtml = 'Like what you see? Visit the ' +\n",
              "            '<a target=\"_blank\" href=https://colab.research.google.com/notebooks/data_table.ipynb>data table notebook</a>'\n",
              "            + ' to learn more about interactive tables.';\n",
              "          element.innerHTML = '';\n",
              "          dataTable['output_type'] = 'display_data';\n",
              "          await google.colab.output.renderOutput(dataTable, element);\n",
              "          const docLink = document.createElement('div');\n",
              "          docLink.innerHTML = docLinkHtml;\n",
              "          element.appendChild(docLink);\n",
              "        }\n",
              "      </script>\n",
              "    </div>\n",
              "  </div>\n",
              "  "
            ]
          },
          "metadata": {},
          "execution_count": 4
        }
      ]
    },
    {
      "cell_type": "code",
      "source": [
        "#initiialize a previous response variable that we can compare to     \n",
        "previous_response_info = \"None\"\n",
        "conn = sqlite3.connect('NCT.db')\n",
        "\n",
        "while True:\n",
        "    \n",
        "    #build url using variables instead of hard typing it\n",
        "    url =\"https://app.geckoterminal.com/contracts/1/candlesticks.json?token_id=\"+token_id+\"&pool_id=\"+pool_id+\"&resolution=\"+resolution+\"&from=\"+from_time+\"&to=\"+to_time+\"&for_update=true\"\n",
        "\n",
        "    #make new request    \n",
        "    current_response = requests.get(url, headers)\n",
        "    pre_relabel_current_response_info = json.loads(current_response.text)[\"data\"][0]\n",
        "    #read json down to the data we need\n",
        "#     if (json.loads(current_response.text)[\"meta\"] != {}):\n",
        "#         good_response = False\n",
        "#         print(\"got a bad response for \" + to_time)\n",
        "#         print(url)\n",
        "#         while (good_response != True): \n",
        "#             time.sleep(60)\n",
        "#             to_time = str(int(to_time)+60)\n",
        "#             current_response = requests.get(url,headers)\n",
        "#             print(to_time)\n",
        "#             if (json.loads(current_response.text)[\"meta\"] == {}):\n",
        "#                 good_response = True\n",
        "#             else:\n",
        "#                 print(\"it messed up again\")\n",
        "        \n",
        "#     print(current_response.text)\n",
        "    current_response_info = json.loads(current_response.text)[\"data\"][0]\n",
        "    #if we get new ohlc values then the from time will need to be adjsuted to the time we checked to and become the new most \n",
        "    #timestamp of ohlc change\n",
        "    if ((current_response_info != pre_relabel_current_response_info) & (pre_relabel_current_response_info != \"None\")): \n",
        "        print(previous_response_info)\n",
        "        print(current_response_info)\n",
        "        print(\"we changed the from time\")\n",
        "        from_time = to_time\n",
        "    #make it match the format of the data frame\n",
        "    current_response_info = relabel(current_response_info, token_id, pool_id, resolution)\n",
        "    #create a new dataframe line\n",
        "    df2 = json_normalize(current_response_info)\n",
        "    #append to the 1 minute tabel in the database\n",
        "    df7.to_sql(name='NCT_1_Minute', con = conn, if_exists='append', index=False)\n",
        "    #update the previous response\n",
        "    previous_response_info = pre_relabel_current_response_info\n",
        "    #add 60 seconds to the time we need to check to    \n",
        "    to_time = str(int(to_time)+60)\n",
        "    #chill out for a minute \n",
        "    time.sleep(60)\n",
        "    df.head()\n",
        "\n"
      ],
      "metadata": {
        "id": "m56uEKtdg5Gp",
        "colab": {
          "base_uri": "https://localhost:8080/",
          "height": 289
        },
        "outputId": "425b1560-cfdc-4c7a-929d-f83eeb328635"
      },
      "execution_count": null,
      "outputs": [
        {
          "output_type": "stream",
          "name": "stdout",
          "text": [
            "{'Datetime': '2022-08-13T15:13:00.000Z', 'Open': 2.30245508922384, 'High': 2.30245508922384, 'Low': 2.30245508922384, 'Close': 2.30245508922384, 'Volume': 216.471919098715, 'Time of Request': Timestamp('2022-08-15 13:30:00'), 'Token_ID': '2609763', 'Pool_ID': '148205730', 'Resolution': '1'}\n",
            "{'Datetime': '2022-08-13T15:13:00.000Z', 'Open': 2.30245508922384, 'High': 2.30245508922384, 'Low': 2.30245508922384, 'Close': 2.30245508922384, 'Volume': 216.471919098715, 'Time of Request': Timestamp('2022-08-15 13:31:00'), 'Token_ID': '2609763', 'Pool_ID': '148205730', 'Resolution': '1'}\n"
          ]
        },
        {
          "output_type": "error",
          "ename": "IndexError",
          "evalue": "ignored",
          "traceback": [
            "\u001b[0;31m---------------------------------------------------------------------------\u001b[0m",
            "\u001b[0;31mIndexError\u001b[0m                                Traceback (most recent call last)",
            "\u001b[0;32m<ipython-input-5-e265aad04591>\u001b[0m in \u001b[0;36m<module>\u001b[0;34m()\u001b[0m\n\u001b[1;32m     14\u001b[0m         \u001b[0mfrom_time\u001b[0m \u001b[0;34m=\u001b[0m \u001b[0mto_time\u001b[0m\u001b[0;34m\u001b[0m\u001b[0;34m\u001b[0m\u001b[0m\n\u001b[1;32m     15\u001b[0m     \u001b[0;31m#read json down to the data we need\u001b[0m\u001b[0;34m\u001b[0m\u001b[0;34m\u001b[0m\u001b[0;34m\u001b[0m\u001b[0m\n\u001b[0;32m---> 16\u001b[0;31m     \u001b[0mcurrent_response_info\u001b[0m \u001b[0;34m=\u001b[0m \u001b[0mjson\u001b[0m\u001b[0;34m.\u001b[0m\u001b[0mloads\u001b[0m\u001b[0;34m(\u001b[0m\u001b[0mcurrent_response\u001b[0m\u001b[0;34m.\u001b[0m\u001b[0mtext\u001b[0m\u001b[0;34m)\u001b[0m\u001b[0;34m[\u001b[0m\u001b[0;34m\"data\"\u001b[0m\u001b[0;34m]\u001b[0m\u001b[0;34m[\u001b[0m\u001b[0;36m0\u001b[0m\u001b[0;34m]\u001b[0m\u001b[0;34m\u001b[0m\u001b[0;34m\u001b[0m\u001b[0m\n\u001b[0m\u001b[1;32m     17\u001b[0m     \u001b[0;31m#make it match the format of the data frame\u001b[0m\u001b[0;34m\u001b[0m\u001b[0;34m\u001b[0m\u001b[0;34m\u001b[0m\u001b[0m\n\u001b[1;32m     18\u001b[0m     \u001b[0mcurrent_response_info\u001b[0m \u001b[0;34m=\u001b[0m \u001b[0mrelabel\u001b[0m\u001b[0;34m(\u001b[0m\u001b[0mcurrent_response_info\u001b[0m\u001b[0;34m,\u001b[0m \u001b[0mtoken_id\u001b[0m\u001b[0;34m,\u001b[0m \u001b[0mpool_id\u001b[0m\u001b[0;34m,\u001b[0m \u001b[0mresolution\u001b[0m\u001b[0;34m)\u001b[0m\u001b[0;34m\u001b[0m\u001b[0;34m\u001b[0m\u001b[0m\n",
            "\u001b[0;31mIndexError\u001b[0m: list index out of range"
          ]
        }
      ]
    },
    {
      "cell_type": "code",
      "source": [
        "df.head(15)"
      ],
      "metadata": {
        "id": "2UrGOxdwg5Mb",
        "colab": {
          "base_uri": "https://localhost:8080/",
          "height": 143
        },
        "outputId": "20362e5a-ea5e-455d-d056-35f3f5a96393"
      },
      "execution_count": null,
      "outputs": [
        {
          "output_type": "execute_result",
          "data": {
            "text/plain": [
              "                   Datetime      Open      High       Low     Close  \\\n",
              "0  2022-08-12T19:51:00.000Z  2.307072  2.307072  2.307072  2.307072   \n",
              "1  2022-08-13T15:13:00.000Z  2.302455  2.302455  2.302455  2.302455   \n",
              "2  2022-08-13T15:13:00.000Z  2.302455  2.302455  2.302455  2.302455   \n",
              "\n",
              "       Volume     Time of Request Token_ID    Pool_ID Resolution  \n",
              "0  184.071002 2022-08-15 00:42:00  2609763  148205730          1  \n",
              "1  216.471919 2022-08-15 00:42:00  2609763  148205730          1  \n",
              "2  216.471919 2022-08-15 00:43:00  2609763  148205730          1  "
            ],
            "text/html": [
              "\n",
              "  <div id=\"df-5bae4319-9cd3-4842-b1f8-f23331de66fd\">\n",
              "    <div class=\"colab-df-container\">\n",
              "      <div>\n",
              "<style scoped>\n",
              "    .dataframe tbody tr th:only-of-type {\n",
              "        vertical-align: middle;\n",
              "    }\n",
              "\n",
              "    .dataframe tbody tr th {\n",
              "        vertical-align: top;\n",
              "    }\n",
              "\n",
              "    .dataframe thead th {\n",
              "        text-align: right;\n",
              "    }\n",
              "</style>\n",
              "<table border=\"1\" class=\"dataframe\">\n",
              "  <thead>\n",
              "    <tr style=\"text-align: right;\">\n",
              "      <th></th>\n",
              "      <th>Datetime</th>\n",
              "      <th>Open</th>\n",
              "      <th>High</th>\n",
              "      <th>Low</th>\n",
              "      <th>Close</th>\n",
              "      <th>Volume</th>\n",
              "      <th>Time of Request</th>\n",
              "      <th>Token_ID</th>\n",
              "      <th>Pool_ID</th>\n",
              "      <th>Resolution</th>\n",
              "    </tr>\n",
              "  </thead>\n",
              "  <tbody>\n",
              "    <tr>\n",
              "      <th>0</th>\n",
              "      <td>2022-08-12T19:51:00.000Z</td>\n",
              "      <td>2.307072</td>\n",
              "      <td>2.307072</td>\n",
              "      <td>2.307072</td>\n",
              "      <td>2.307072</td>\n",
              "      <td>184.071002</td>\n",
              "      <td>2022-08-15 00:42:00</td>\n",
              "      <td>2609763</td>\n",
              "      <td>148205730</td>\n",
              "      <td>1</td>\n",
              "    </tr>\n",
              "    <tr>\n",
              "      <th>1</th>\n",
              "      <td>2022-08-13T15:13:00.000Z</td>\n",
              "      <td>2.302455</td>\n",
              "      <td>2.302455</td>\n",
              "      <td>2.302455</td>\n",
              "      <td>2.302455</td>\n",
              "      <td>216.471919</td>\n",
              "      <td>2022-08-15 00:42:00</td>\n",
              "      <td>2609763</td>\n",
              "      <td>148205730</td>\n",
              "      <td>1</td>\n",
              "    </tr>\n",
              "    <tr>\n",
              "      <th>2</th>\n",
              "      <td>2022-08-13T15:13:00.000Z</td>\n",
              "      <td>2.302455</td>\n",
              "      <td>2.302455</td>\n",
              "      <td>2.302455</td>\n",
              "      <td>2.302455</td>\n",
              "      <td>216.471919</td>\n",
              "      <td>2022-08-15 00:43:00</td>\n",
              "      <td>2609763</td>\n",
              "      <td>148205730</td>\n",
              "      <td>1</td>\n",
              "    </tr>\n",
              "  </tbody>\n",
              "</table>\n",
              "</div>\n",
              "      <button class=\"colab-df-convert\" onclick=\"convertToInteractive('df-5bae4319-9cd3-4842-b1f8-f23331de66fd')\"\n",
              "              title=\"Convert this dataframe to an interactive table.\"\n",
              "              style=\"display:none;\">\n",
              "        \n",
              "  <svg xmlns=\"http://www.w3.org/2000/svg\" height=\"24px\"viewBox=\"0 0 24 24\"\n",
              "       width=\"24px\">\n",
              "    <path d=\"M0 0h24v24H0V0z\" fill=\"none\"/>\n",
              "    <path d=\"M18.56 5.44l.94 2.06.94-2.06 2.06-.94-2.06-.94-.94-2.06-.94 2.06-2.06.94zm-11 1L8.5 8.5l.94-2.06 2.06-.94-2.06-.94L8.5 2.5l-.94 2.06-2.06.94zm10 10l.94 2.06.94-2.06 2.06-.94-2.06-.94-.94-2.06-.94 2.06-2.06.94z\"/><path d=\"M17.41 7.96l-1.37-1.37c-.4-.4-.92-.59-1.43-.59-.52 0-1.04.2-1.43.59L10.3 9.45l-7.72 7.72c-.78.78-.78 2.05 0 2.83L4 21.41c.39.39.9.59 1.41.59.51 0 1.02-.2 1.41-.59l7.78-7.78 2.81-2.81c.8-.78.8-2.07 0-2.86zM5.41 20L4 18.59l7.72-7.72 1.47 1.35L5.41 20z\"/>\n",
              "  </svg>\n",
              "      </button>\n",
              "      \n",
              "  <style>\n",
              "    .colab-df-container {\n",
              "      display:flex;\n",
              "      flex-wrap:wrap;\n",
              "      gap: 12px;\n",
              "    }\n",
              "\n",
              "    .colab-df-convert {\n",
              "      background-color: #E8F0FE;\n",
              "      border: none;\n",
              "      border-radius: 50%;\n",
              "      cursor: pointer;\n",
              "      display: none;\n",
              "      fill: #1967D2;\n",
              "      height: 32px;\n",
              "      padding: 0 0 0 0;\n",
              "      width: 32px;\n",
              "    }\n",
              "\n",
              "    .colab-df-convert:hover {\n",
              "      background-color: #E2EBFA;\n",
              "      box-shadow: 0px 1px 2px rgba(60, 64, 67, 0.3), 0px 1px 3px 1px rgba(60, 64, 67, 0.15);\n",
              "      fill: #174EA6;\n",
              "    }\n",
              "\n",
              "    [theme=dark] .colab-df-convert {\n",
              "      background-color: #3B4455;\n",
              "      fill: #D2E3FC;\n",
              "    }\n",
              "\n",
              "    [theme=dark] .colab-df-convert:hover {\n",
              "      background-color: #434B5C;\n",
              "      box-shadow: 0px 1px 3px 1px rgba(0, 0, 0, 0.15);\n",
              "      filter: drop-shadow(0px 1px 2px rgba(0, 0, 0, 0.3));\n",
              "      fill: #FFFFFF;\n",
              "    }\n",
              "  </style>\n",
              "\n",
              "      <script>\n",
              "        const buttonEl =\n",
              "          document.querySelector('#df-5bae4319-9cd3-4842-b1f8-f23331de66fd button.colab-df-convert');\n",
              "        buttonEl.style.display =\n",
              "          google.colab.kernel.accessAllowed ? 'block' : 'none';\n",
              "\n",
              "        async function convertToInteractive(key) {\n",
              "          const element = document.querySelector('#df-5bae4319-9cd3-4842-b1f8-f23331de66fd');\n",
              "          const dataTable =\n",
              "            await google.colab.kernel.invokeFunction('convertToInteractive',\n",
              "                                                     [key], {});\n",
              "          if (!dataTable) return;\n",
              "\n",
              "          const docLinkHtml = 'Like what you see? Visit the ' +\n",
              "            '<a target=\"_blank\" href=https://colab.research.google.com/notebooks/data_table.ipynb>data table notebook</a>'\n",
              "            + ' to learn more about interactive tables.';\n",
              "          element.innerHTML = '';\n",
              "          dataTable['output_type'] = 'display_data';\n",
              "          await google.colab.output.renderOutput(dataTable, element);\n",
              "          const docLink = document.createElement('div');\n",
              "          docLink.innerHTML = docLinkHtml;\n",
              "          element.appendChild(docLink);\n",
              "        }\n",
              "      </script>\n",
              "    </div>\n",
              "  </div>\n",
              "  "
            ]
          },
          "metadata": {},
          "execution_count": 14
        }
      ]
    },
    {
      "cell_type": "code",
      "source": [
        "df.to_json(orient='index')"
      ],
      "metadata": {
        "id": "3IVkWeuo8mLi"
      },
      "execution_count": null,
      "outputs": []
    },
    {
      "cell_type": "markdown",
      "source": [
        "# API work\n"
      ],
      "metadata": {
        "id": "uvmexehNhAsz"
      }
    },
    {
      "cell_type": "code",
      "source": [
        "import requests\n",
        "import pandas as pd\n",
        "import json as j"
      ],
      "metadata": {
        "id": "nrWY0qG8hJSB"
      },
      "execution_count": null,
      "outputs": []
    },
    {
      "cell_type": "code",
      "source": [
        "import requests\n",
        "\n",
        "url = \"https://coingecko.p.rapidapi.com/coins/toucan-protocol-nature-carbon-tonne/tickers\"\n",
        "\n",
        "headers = {\n",
        "\t\"X-RapidAPI-Key\": \"d29c6132c9mshed07801a213d72cp165fedjsne274d0c24d5b\",\n",
        "\t\"X-RapidAPI-Host\": \"coingecko.p.rapidapi.com\"\n",
        "}\n",
        "\n",
        "response = requests.request(\"GET\", url, headers=headers)\n",
        "\n",
        "print(response.text)"
      ],
      "metadata": {
        "id": "yQcdycdn97NP",
        "colab": {
          "base_uri": "https://localhost:8080/"
        },
        "outputId": "df5c2c7a-ec70-47b1-d93d-e0d865f0d482"
      },
      "execution_count": null,
      "outputs": [
        {
          "output_type": "stream",
          "name": "stdout",
          "text": [
            "{\"name\":\"Toucan Protocol: Nature Carbon Tonne\",\"tickers\":[{\"base\":\"0X2791BCA1F2DE4661ED88A30C99A7A9449AA84174\",\"target\":\"0XD838290E877E0188A4A44700463419ED96C16107\",\"market\":{\"name\":\"Sushiswap (Polygon POS)\",\"identifier\":\"sushiswap_polygon_pos\",\"has_trading_incentive\":false},\"last\":0.46144628490397,\"volume\":19172.169067,\"converted_last\":{\"btc\":9.575e-05,\"eth\":0.00135965,\"usd\":2.17},\"converted_volume\":{\"btc\":0.84737778,\"eth\":12.033308,\"usd\":19185.08},\"trust_score\":\"green\",\"bid_ask_spread_percentage\":0.603095,\"timestamp\":\"2022-08-04T17:11:36+00:00\",\"last_traded_at\":\"2022-08-04T17:11:36+00:00\",\"last_fetch_at\":\"2022-08-04T17:27:28+00:00\",\"is_anomaly\":false,\"is_stale\":false,\"trade_url\":\"https://app.sushi.com/en/swap?inputCurrency=0x2791bca1f2de4661ed88a30c99a7a9449aa84174\\u0026outputCurrency=0xd838290e877e0188a4a44700463419ed96c16107\",\"token_info_url\":null,\"coin_id\":\"usd-coin\",\"target_coin_id\":\"toucan-protocol-nature-carbon-tonne\"}]}\n"
          ]
        }
      ]
    },
    {
      "cell_type": "code",
      "source": [
        "pip install pycoingecko\n"
      ],
      "metadata": {
        "colab": {
          "base_uri": "https://localhost:8080/"
        },
        "id": "2ukHOxxyXQT9",
        "outputId": "b462f5e1-626f-4489-f8e8-3c3625475c68"
      },
      "execution_count": null,
      "outputs": [
        {
          "output_type": "stream",
          "name": "stdout",
          "text": [
            "Looking in indexes: https://pypi.org/simple, https://us-python.pkg.dev/colab-wheels/public/simple/\n",
            "Collecting pycoingecko\n",
            "  Downloading pycoingecko-2.2.0-py3-none-any.whl (8.3 kB)\n",
            "Requirement already satisfied: requests in /usr/local/lib/python3.7/dist-packages (from pycoingecko) (2.23.0)\n",
            "Requirement already satisfied: urllib3!=1.25.0,!=1.25.1,<1.26,>=1.21.1 in /usr/local/lib/python3.7/dist-packages (from requests->pycoingecko) (1.24.3)\n",
            "Requirement already satisfied: idna<3,>=2.5 in /usr/local/lib/python3.7/dist-packages (from requests->pycoingecko) (2.10)\n",
            "Requirement already satisfied: chardet<4,>=3.0.2 in /usr/local/lib/python3.7/dist-packages (from requests->pycoingecko) (3.0.4)\n",
            "Requirement already satisfied: certifi>=2017.4.17 in /usr/local/lib/python3.7/dist-packages (from requests->pycoingecko) (2022.6.15)\n",
            "Installing collected packages: pycoingecko\n",
            "Successfully installed pycoingecko-2.2.0\n"
          ]
        }
      ]
    },
    {
      "cell_type": "code",
      "source": [
        "pip install plotly"
      ],
      "metadata": {
        "colab": {
          "base_uri": "https://localhost:8080/"
        },
        "id": "t6f0J0cTithz",
        "outputId": "7f3b3fba-5c5e-4e15-f8da-12bc83c5ce33"
      },
      "execution_count": null,
      "outputs": [
        {
          "output_type": "stream",
          "name": "stdout",
          "text": [
            "Looking in indexes: https://pypi.org/simple, https://us-python.pkg.dev/colab-wheels/public/simple/\n",
            "Requirement already satisfied: plotly in /usr/local/lib/python3.7/dist-packages (5.5.0)\n",
            "Requirement already satisfied: tenacity>=6.2.0 in /usr/local/lib/python3.7/dist-packages (from plotly) (8.0.1)\n",
            "Requirement already satisfied: six in /usr/local/lib/python3.7/dist-packages (from plotly) (1.15.0)\n"
          ]
        }
      ]
    },
    {
      "cell_type": "code",
      "source": [
        "from pycoingecko import CoinGeckoAPI\n",
        "import time as t\n",
        "import datetime as dt\n",
        "import plotly.graph_objects as go\n",
        "from plotly.offline import plot\n",
        "import pandas as pd"
      ],
      "metadata": {
        "id": "tTZz65CNXesR"
      },
      "execution_count": null,
      "outputs": []
    },
    {
      "cell_type": "code",
      "source": [
        "data =CoinGeckoAPI()\n"
      ],
      "metadata": {
        "id": "gIwFf1xuZf39"
      },
      "execution_count": null,
      "outputs": []
    },
    {
      "cell_type": "code",
      "source": [
        "data.ping()"
      ],
      "metadata": {
        "colab": {
          "base_uri": "https://localhost:8080/"
        },
        "id": "Z0pGxUNGjJXB",
        "outputId": "442caa26-4742-4e3d-9585-2145406cc1cc"
      },
      "execution_count": null,
      "outputs": [
        {
          "output_type": "execute_result",
          "data": {
            "text/plain": [
              "{'gecko_says': '(V3) To the Moon!'}"
            ]
          },
          "metadata": {},
          "execution_count": 6
        }
      ]
    },
    {
      "cell_type": "code",
      "source": [
        "#get the coin\n",
        "NCT = data.get_coin_by_id(id = 'toucan-protocol-nature-carbon-tonne')\n",
        "print(NCT)"
      ],
      "metadata": {
        "colab": {
          "base_uri": "https://localhost:8080/"
        },
        "id": "wVzDnejWjXv1",
        "outputId": "5ffaaa95-0841-4164-dc09-7df8d63b94f1"
      },
      "execution_count": null,
      "outputs": [
        {
          "output_type": "stream",
          "name": "stdout",
          "text": [
            "{'id': 'toucan-protocol-nature-carbon-tonne', 'symbol': 'nct', 'name': 'Toucan Protocol: Nature Carbon Tonne', 'asset_platform_id': 'polygon-pos', 'platforms': {'polygon-pos': '0xd838290e877e0188a4a44700463419ed96c16107'}, 'block_time_in_minutes': 0, 'hashing_algorithm': None, 'categories': ['Polygon Ecosystem'], 'public_notice': None, 'additional_notices': [\"Kindly be aware of <a href='https://www.coingecko.com/en/glossary/rug-pulled' target='_blank'>liquidity-related risks</a>. This notice is not directed at any project in particular, and is more of a cautionary reminder.\"], 'localization': {'en': 'Toucan Protocol: Nature Carbon Tonne', 'de': 'Toucan Protocol: Nature Carbon Tonne', 'es': 'Toucan Protocol: Nature Carbon Tonne', 'fr': 'Toucan Protocol: Nature Carbon Tonne', 'it': 'Toucan Protocol: Nature Carbon Tonne', 'pl': 'Toucan Protocol: Nature Carbon Tonne', 'ro': 'Toucan Protocol: Nature Carbon Tonne', 'hu': 'Toucan Protocol: Nature Carbon Tonne', 'nl': 'Toucan Protocol: Nature Carbon Tonne', 'pt': 'Toucan Protocol: Nature Carbon Tonne', 'sv': 'Toucan Protocol: Nature Carbon Tonne', 'vi': 'Toucan Protocol: Nature Carbon Tonne', 'tr': 'Toucan Protocol: Nature Carbon Tonne', 'ru': 'Toucan Protocol: Nature Carbon Tonne', 'ja': 'Toucan Protocol: Nature Carbon Tonne', 'zh': 'Toucan Protocol: Nature Carbon Tonne', 'zh-tw': 'Toucan Protocol: Nature Carbon Tonne', 'ko': 'Toucan Protocol: Nature Carbon Tonne', 'ar': 'Toucan Protocol: Nature Carbon Tonne', 'th': 'Toucan Protocol: Nature Carbon Tonne', 'id': 'Toucan Protocol: Nature Carbon Tonne', 'cs': 'Toucan Protocol: Nature Carbon Tonne', 'da': 'Toucan Protocol: Nature Carbon Tonne', 'el': 'Toucan Protocol: Nature Carbon Tonne', 'hi': 'Toucan Protocol: Nature Carbon Tonne', 'no': 'Toucan Protocol: Nature Carbon Tonne', 'sk': 'Toucan Protocol: Nature Carbon Tonne', 'uk': 'Toucan Protocol: Nature Carbon Tonne', 'he': 'Toucan Protocol: Nature Carbon Tonne', 'fi': 'Toucan Protocol: Nature Carbon Tonne', 'bg': 'Toucan Protocol: Nature Carbon Tonne', 'hr': 'Toucan Protocol: Nature Carbon Tonne', 'lt': 'Toucan Protocol: Nature Carbon Tonne', 'sl': 'Toucan Protocol: Nature Carbon Tonne'}, 'description': {'en': 'NCT is the second carbon pool and liquid carbon reference token to be launched on the Toucan Protocol. Every NCT is backed 1:1 with a nature-based carbon token held in the carbon pool. Anyone can redeem NCT for TCO2 tokens, which can be retired on-chain.\\r\\n', 'de': 'NCT is the second carbon pool and liquid carbon reference token to be launched on the Toucan Protocol. Every NCT is backed 1:1 with a nature-based carbon token held in the carbon pool. Anyone can redeem NCT for TCO2 tokens, which can be retired on-chain.\\r\\n', 'es': 'NCT is the second carbon pool and liquid carbon reference token to be launched on the Toucan Protocol. Every NCT is backed 1:1 with a nature-based carbon token held in the carbon pool. Anyone can redeem NCT for TCO2 tokens, which can be retired on-chain.\\r\\n', 'fr': 'NCT is the second carbon pool and liquid carbon reference token to be launched on the Toucan Protocol. Every NCT is backed 1:1 with a nature-based carbon token held in the carbon pool. Anyone can redeem NCT for TCO2 tokens, which can be retired on-chain.\\r\\n', 'it': 'NCT is the second carbon pool and liquid carbon reference token to be launched on the Toucan Protocol. Every NCT is backed 1:1 with a nature-based carbon token held in the carbon pool. Anyone can redeem NCT for TCO2 tokens, which can be retired on-chain.\\r\\n', 'pl': 'NCT is the second carbon pool and liquid carbon reference token to be launched on the Toucan Protocol. Every NCT is backed 1:1 with a nature-based carbon token held in the carbon pool. Anyone can redeem NCT for TCO2 tokens, which can be retired on-chain.\\r\\n', 'ro': 'NCT is the second carbon pool and liquid carbon reference token to be launched on the Toucan Protocol. Every NCT is backed 1:1 with a nature-based carbon token held in the carbon pool. Anyone can redeem NCT for TCO2 tokens, which can be retired on-chain.\\r\\n', 'hu': 'NCT is the second carbon pool and liquid carbon reference token to be launched on the Toucan Protocol. Every NCT is backed 1:1 with a nature-based carbon token held in the carbon pool. Anyone can redeem NCT for TCO2 tokens, which can be retired on-chain.\\r\\n', 'nl': 'NCT is the second carbon pool and liquid carbon reference token to be launched on the Toucan Protocol. Every NCT is backed 1:1 with a nature-based carbon token held in the carbon pool. Anyone can redeem NCT for TCO2 tokens, which can be retired on-chain.\\r\\n', 'pt': 'NCT is the second carbon pool and liquid carbon reference token to be launched on the Toucan Protocol. Every NCT is backed 1:1 with a nature-based carbon token held in the carbon pool. Anyone can redeem NCT for TCO2 tokens, which can be retired on-chain.\\r\\n', 'sv': 'NCT is the second carbon pool and liquid carbon reference token to be launched on the Toucan Protocol. Every NCT is backed 1:1 with a nature-based carbon token held in the carbon pool. Anyone can redeem NCT for TCO2 tokens, which can be retired on-chain.\\r\\n', 'vi': 'NCT is the second carbon pool and liquid carbon reference token to be launched on the Toucan Protocol. Every NCT is backed 1:1 with a nature-based carbon token held in the carbon pool. Anyone can redeem NCT for TCO2 tokens, which can be retired on-chain.\\r\\n', 'tr': 'NCT is the second carbon pool and liquid carbon reference token to be launched on the Toucan Protocol. Every NCT is backed 1:1 with a nature-based carbon token held in the carbon pool. Anyone can redeem NCT for TCO2 tokens, which can be retired on-chain.\\r\\n', 'ru': 'NCT is the second carbon pool and liquid carbon reference token to be launched on the Toucan Protocol. Every NCT is backed 1:1 with a nature-based carbon token held in the carbon pool. Anyone can redeem NCT for TCO2 tokens, which can be retired on-chain.\\r\\n', 'ja': 'NCT is the second carbon pool and liquid carbon reference token to be launched on the Toucan Protocol. Every NCT is backed 1:1 with a nature-based carbon token held in the carbon pool. Anyone can redeem NCT for TCO2 tokens, which can be retired on-chain.\\r\\n', 'zh': 'NCT is the second carbon pool and liquid carbon reference token to be launched on the Toucan Protocol. Every NCT is backed 1:1 with a nature-based carbon token held in the carbon pool. Anyone can redeem NCT for TCO2 tokens, which can be retired on-chain.\\r\\n', 'zh-tw': 'NCT is the second carbon pool and liquid carbon reference token to be launched on the Toucan Protocol. Every NCT is backed 1:1 with a nature-based carbon token held in the carbon pool. Anyone can redeem NCT for TCO2 tokens, which can be retired on-chain.\\r\\n', 'ko': 'NCT is the second carbon pool and liquid carbon reference token to be launched on the Toucan Protocol. Every NCT is backed 1:1 with a nature-based carbon token held in the carbon pool. Anyone can redeem NCT for TCO2 tokens, which can be retired on-chain.\\r\\n', 'ar': 'NCT is the second carbon pool and liquid carbon reference token to be launched on the Toucan Protocol. Every NCT is backed 1:1 with a nature-based carbon token held in the carbon pool. Anyone can redeem NCT for TCO2 tokens, which can be retired on-chain.\\r\\n', 'th': 'NCT is the second carbon pool and liquid carbon reference token to be launched on the Toucan Protocol. Every NCT is backed 1:1 with a nature-based carbon token held in the carbon pool. Anyone can redeem NCT for TCO2 tokens, which can be retired on-chain.\\r\\n', 'id': 'NCT is the second carbon pool and liquid carbon reference token to be launched on the Toucan Protocol. Every NCT is backed 1:1 with a nature-based carbon token held in the carbon pool. Anyone can redeem NCT for TCO2 tokens, which can be retired on-chain.\\r\\n', 'cs': 'NCT is the second carbon pool and liquid carbon reference token to be launched on the Toucan Protocol. Every NCT is backed 1:1 with a nature-based carbon token held in the carbon pool. Anyone can redeem NCT for TCO2 tokens, which can be retired on-chain.\\r\\n', 'da': 'NCT is the second carbon pool and liquid carbon reference token to be launched on the Toucan Protocol. Every NCT is backed 1:1 with a nature-based carbon token held in the carbon pool. Anyone can redeem NCT for TCO2 tokens, which can be retired on-chain.\\r\\n', 'el': 'NCT is the second carbon pool and liquid carbon reference token to be launched on the Toucan Protocol. Every NCT is backed 1:1 with a nature-based carbon token held in the carbon pool. Anyone can redeem NCT for TCO2 tokens, which can be retired on-chain.\\r\\n', 'hi': 'NCT is the second carbon pool and liquid carbon reference token to be launched on the Toucan Protocol. Every NCT is backed 1:1 with a nature-based carbon token held in the carbon pool. Anyone can redeem NCT for TCO2 tokens, which can be retired on-chain.\\r\\n', 'no': 'NCT is the second carbon pool and liquid carbon reference token to be launched on the Toucan Protocol. Every NCT is backed 1:1 with a nature-based carbon token held in the carbon pool. Anyone can redeem NCT for TCO2 tokens, which can be retired on-chain.\\r\\n', 'sk': 'NCT is the second carbon pool and liquid carbon reference token to be launched on the Toucan Protocol. Every NCT is backed 1:1 with a nature-based carbon token held in the carbon pool. Anyone can redeem NCT for TCO2 tokens, which can be retired on-chain.\\r\\n', 'uk': 'NCT is the second carbon pool and liquid carbon reference token to be launched on the Toucan Protocol. Every NCT is backed 1:1 with a nature-based carbon token held in the carbon pool. Anyone can redeem NCT for TCO2 tokens, which can be retired on-chain.\\r\\n', 'he': 'NCT is the second carbon pool and liquid carbon reference token to be launched on the Toucan Protocol. Every NCT is backed 1:1 with a nature-based carbon token held in the carbon pool. Anyone can redeem NCT for TCO2 tokens, which can be retired on-chain.\\r\\n', 'fi': 'NCT is the second carbon pool and liquid carbon reference token to be launched on the Toucan Protocol. Every NCT is backed 1:1 with a nature-based carbon token held in the carbon pool. Anyone can redeem NCT for TCO2 tokens, which can be retired on-chain.\\r\\n', 'bg': 'NCT is the second carbon pool and liquid carbon reference token to be launched on the Toucan Protocol. Every NCT is backed 1:1 with a nature-based carbon token held in the carbon pool. Anyone can redeem NCT for TCO2 tokens, which can be retired on-chain.\\r\\n', 'hr': 'NCT is the second carbon pool and liquid carbon reference token to be launched on the Toucan Protocol. Every NCT is backed 1:1 with a nature-based carbon token held in the carbon pool. Anyone can redeem NCT for TCO2 tokens, which can be retired on-chain.\\r\\n', 'lt': 'NCT is the second carbon pool and liquid carbon reference token to be launched on the Toucan Protocol. Every NCT is backed 1:1 with a nature-based carbon token held in the carbon pool. Anyone can redeem NCT for TCO2 tokens, which can be retired on-chain.\\r\\n', 'sl': 'NCT is the second carbon pool and liquid carbon reference token to be launched on the Toucan Protocol. Every NCT is backed 1:1 with a nature-based carbon token held in the carbon pool. Anyone can redeem NCT for TCO2 tokens, which can be retired on-chain.\\r\\n'}, 'links': {'homepage': ['https://toucan.earth/', 'https://blog.toucan.earth/announcing-nct-nature-carbon-tonne/', ''], 'blockchain_site': ['https://polygonscan.com/token/0xD838290e877E0188a4A44700463419ED96c16107', '', '', '', '', '', '', '', '', ''], 'official_forum_url': ['', '', ''], 'chat_url': ['https://discord.com/invite/r8DZqeJMFE', '', ''], 'announcement_url': ['', ''], 'twitter_screen_name': 'ToucanProtocol', 'facebook_username': '', 'bitcointalk_thread_identifier': None, 'telegram_channel_identifier': '', 'subreddit_url': None, 'repos_url': {'github': [], 'bitbucket': []}}, 'image': {'thumb': 'https://assets.coingecko.com/coins/images/24484/thumb/NCT-removebg-preview.png?1647836439', 'small': 'https://assets.coingecko.com/coins/images/24484/small/NCT-removebg-preview.png?1647836439', 'large': 'https://assets.coingecko.com/coins/images/24484/large/NCT-removebg-preview.png?1647836439'}, 'country_origin': '', 'genesis_date': None, 'contract_address': '0xd838290e877e0188a4a44700463419ed96c16107', 'sentiment_votes_up_percentage': None, 'sentiment_votes_down_percentage': None, 'market_cap_rank': None, 'coingecko_rank': 8892, 'coingecko_score': 2.029, 'developer_score': 0.0, 'community_score': 8.313, 'liquidity_score': 1.0, 'public_interest_score': 0.002, 'market_data': {'current_price': {'aed': 8.42, 'ars': 307.29, 'aud': 3.22, 'bch': 0.01557251, 'bdt': 217.85, 'bhd': 0.864472, 'bmd': 2.29, 'bnb': 0.00693691, 'brl': 11.71, 'btc': 9.294e-05, 'cad': 2.92, 'chf': 2.15, 'clp': 2028.09, 'cny': 15.45, 'czk': 53.91, 'dkk': 16.48, 'dot': 0.24363124, 'eos': 1.73785, 'eth': 0.00120426, 'eur': 2.22, 'gbp': 1.87, 'hkd': 17.99, 'huf': 872.41, 'idr': 33650, 'ils': 7.41, 'inr': 182.25, 'jpy': 303.93, 'krw': 2977.49, 'kwd': 0.702601, 'lkr': 832.22, 'ltc': 0.03649819, 'mmk': 4274.81, 'mxn': 45.8, 'myr': 10.22, 'ngn': 952.24, 'nok': 21.75, 'nzd': 3.55, 'php': 126.88, 'pkr': 507.81, 'pln': 10.38, 'rub': 139.02, 'sar': 8.61, 'sek': 22.96, 'sgd': 3.14, 'thb': 80.56, 'try': 41.17, 'twd': 68.7, 'uah': 84.67, 'usd': 2.29, 'vef': 0.229609, 'vnd': 53646, 'xag': 0.112037, 'xau': 0.00127896, 'xdr': 1.68, 'xlm': 18.102606, 'xrp': 6.000264, 'yfi': 0.00019946, 'zar': 37.11, 'bits': 92.94, 'link': 0.25372103, 'sats': 9293.68}, 'total_value_locked': None, 'mcap_to_tvl_ratio': None, 'fdv_to_tvl_ratio': None, 'roi': None, 'ath': {'aed': 55.29, 'ars': 1661.25, 'aud': 20.04, 'bch': 0.04171444, 'bdt': 1299.54, 'bhd': 5.68, 'bmd': 15.05, 'bnb': 0.03668024, 'brl': 71.4, 'btc': 0.0003397, 'cad': 18.78, 'chf': 13.99, 'clp': 11709.97, 'cny': 95.84, 'czk': 336.54, 'dkk': 101.98, 'dot': 0.86756909, 'eos': 6.051267, 'eth': 0.00485544, 'eur': 13.71, 'gbp': 11.41, 'hkd': 117.87, 'huf': 5108.77, 'idr': 216132, 'ils': 48.4, 'inr': 1148.28, 'jpy': 1837.83, 'krw': 18447.56, 'kwd': 4.58, 'lkr': 4331.1, 'ltc': 0.12174028, 'mmk': 26784, 'mxn': 301.59, 'myr': 63.38, 'ngn': 6258.58, 'nok': 129.5, 'nzd': 21.61, 'php': 784.89, 'pkr': 2733.0, 'pln': 64.14, 'rub': 1535.48, 'sar': 56.47, 'sek': 142.4, 'sgd': 9.1, 'thb': 505.75, 'try': 223.33, 'twd': 431.79, 'uah': 442.92, 'usd': 15.05, 'vef': 1.51, 'vnd': 344180, 'xag': 0.589934, 'xau': 0.00769109, 'xdr': 10.82, 'xlm': 71.312, 'xrp': 18.274547, 'yfi': 0.00082514, 'zar': 218.77, 'bits': 339.7, 'link': 1.142998, 'sats': 33970}, 'ath_change_percentage': {'aed': -84.69874, 'ars': -81.38997, 'aud': -83.87928, 'bch': -62.73679, 'bdt': -83.16092, 'bhd': -84.70698, 'bmd': -84.6987, 'bnb': -81.08654, 'brl': -83.57316, 'btc': -72.66285, 'cad': -84.38455, 'chf': -84.54217, 'clp': -82.6211, 'cny': -83.80917, 'czk': -83.89866, 'dkk': -83.7611, 'dot': -71.94069, 'eos': -71.36157, 'eth': -75.26271, 'eur': -83.75917, 'gbp': -83.517, 'hkd': -84.67057, 'huf': -82.84314, 'idr': -84.35925, 'ils': -84.61918, 'inr': -84.05484, 'jpy': -83.4103, 'krw': -83.78646, 'kwd': -84.58827, 'lkr': -80.6987, 'ltc': -70.07055, 'mmk': -83.96788, 'mxn': -84.7782, 'myr': -83.8465, 'ngn': -84.71671, 'nok': -83.14124, 'nzd': -83.48312, 'php': -83.75652, 'pkr': -81.46352, 'pln': -83.75518, 'rub': -90.90548, 'sar': -84.67692, 'sek': -83.79886, 'sgd': -65.38029, 'thb': -83.99826, 'try': -81.47864, 'twd': -84.02041, 'uah': -80.79794, 'usd': -84.6987, 'vef': -84.6987, 'vnd': -84.34329, 'xag': -80.9989, 'xau': -83.32313, 'xdr': -84.3704, 'xlm': -74.59481, 'xrp': -67.17662, 'yfi': -75.91269, 'zar': -82.99621, 'bits': -72.66285, 'link': -77.86917, 'sats': -72.66285}, 'ath_date': {'aed': '2022-03-25T23:05:55.863Z', 'ars': '2022-03-25T23:05:55.863Z', 'aud': '2022-03-25T23:05:55.863Z', 'bch': '2022-03-25T23:05:55.863Z', 'bdt': '2022-03-25T23:05:55.863Z', 'bhd': '2022-03-25T23:05:55.863Z', 'bmd': '2022-03-25T23:05:55.863Z', 'bnb': '2022-03-25T23:05:55.863Z', 'brl': '2022-03-25T23:05:55.863Z', 'btc': '2022-03-25T23:05:55.863Z', 'cad': '2022-03-25T23:05:55.863Z', 'chf': '2022-03-25T23:05:55.863Z', 'clp': '2022-03-25T23:05:55.863Z', 'cny': '2022-03-25T23:05:55.863Z', 'czk': '2022-03-25T23:05:55.863Z', 'dkk': '2022-03-25T23:05:55.863Z', 'dot': '2022-05-12T07:21:20.116Z', 'eos': '2022-03-25T23:05:55.863Z', 'eth': '2022-03-25T23:05:55.863Z', 'eur': '2022-03-25T23:05:55.863Z', 'gbp': '2022-03-25T23:05:55.863Z', 'hkd': '2022-03-25T23:05:55.863Z', 'huf': '2022-03-25T23:05:55.863Z', 'idr': '2022-03-25T23:05:55.863Z', 'ils': '2022-03-25T23:05:55.863Z', 'inr': '2022-03-25T23:05:55.863Z', 'jpy': '2022-03-25T23:05:55.863Z', 'krw': '2022-03-25T23:05:55.863Z', 'kwd': '2022-03-25T23:05:55.863Z', 'lkr': '2022-03-25T23:05:55.863Z', 'ltc': '2022-03-25T23:05:55.863Z', 'mmk': '2022-03-25T23:05:55.863Z', 'mxn': '2022-03-25T23:05:55.863Z', 'myr': '2022-03-25T23:05:55.863Z', 'ngn': '2022-03-25T23:05:55.863Z', 'nok': '2022-03-25T23:05:55.863Z', 'nzd': '2022-03-25T23:05:55.863Z', 'php': '2022-03-25T23:05:55.863Z', 'pkr': '2022-03-25T23:05:55.863Z', 'pln': '2022-03-25T23:05:55.863Z', 'rub': '2022-03-25T23:05:55.863Z', 'sar': '2022-03-25T23:05:55.863Z', 'sek': '2022-03-25T23:05:55.863Z', 'sgd': '2022-05-11T12:50:55.333Z', 'thb': '2022-03-25T23:05:55.863Z', 'try': '2022-03-25T23:05:55.863Z', 'twd': '2022-03-25T23:05:55.863Z', 'uah': '2022-03-25T23:05:55.863Z', 'usd': '2022-03-25T23:05:55.863Z', 'vef': '2022-03-25T23:05:55.863Z', 'vnd': '2022-03-25T23:05:55.863Z', 'xag': '2022-03-25T23:05:55.863Z', 'xau': '2022-03-25T23:05:55.863Z', 'xdr': '2022-03-25T23:05:55.863Z', 'xlm': '2022-03-25T23:05:55.863Z', 'xrp': '2022-03-25T23:05:55.863Z', 'yfi': '2022-06-13T09:45:51.305Z', 'zar': '2022-03-25T23:05:55.863Z', 'bits': '2022-03-25T23:05:55.863Z', 'link': '2022-05-12T07:21:20.116Z', 'sats': '2022-03-25T23:05:55.863Z'}, 'atl': {'aed': 0.455244, 'ars': 13.55, 'aud': 0.167452, 'bch': 0.00037472, 'bdt': 10.67, 'bhd': 0.04677152, 'bmd': 0.123943, 'bnb': 0.0003162, 'brl': 0.622159, 'btc': 3.02e-06, 'cad': 0.156262, 'chf': 0.115681, 'clp': 99.55, 'cny': 0.788912, 'czk': 2.78, 'dkk': 0.835428, 'dot': 0.00658671, 'eos': 0.05655186, 'eth': 4.281e-05, 'eur': 0.112234, 'gbp': 0.094221, 'hkd': 0.969848, 'huf': 42.12, 'idr': 1777.66, 'ils': 0.402177, 'inr': 9.43, 'jpy': 14.78, 'krw': 150.42, 'kwd': 0.03766825, 'lkr': 34.32, 'ltc': 0.00107695, 'mmk': 219.94, 'mxn': 2.53, 'myr': 0.52081, 'ngn': 51.42, 'nok': 1.084, 'nzd': 0.179516, 'php': 6.49, 'pkr': 22.36, 'pln': 0.528419, 'rub': 12.53, 'sar': 0.464992, 'sek': 1.17, 'sgd': 0.168073, 'thb': 4.15, 'try': 1.84, 'twd': 3.53, 'uah': 3.64, 'usd': 0.123943, 'vef': 0.01241045, 'vnd': 2833.96, 'xag': 0.00494755, 'xau': 6.431e-05, 'xdr': 0.0889, 'xlm': 0.62799379, 'xrp': 0.15334276, 'yfi': 6.12e-06, 'zar': 1.86, 'bits': 3.02, 'link': 0.00826231, 'sats': 302.41}, 'atl_change_percentage': {'aed': 1758.43909, 'ars': 2181.90583, 'aud': 1828.95875, 'bch': 4048.24034, 'bdt': 1950.78825, 'bhd': 1755.81908, 'bmd': 1758.43909, 'bnb': 2094.05232, 'brl': 1785.24368, 'btc': 2970.81815, 'cad': 1776.73677, 'chf': 1769.41448, 'clp': 1944.17104, 'cny': 1866.84876, 'czk': 1847.54977, 'dkk': 1882.21261, 'dot': 3595.83402, 'eos': 2964.42185, 'eth': 2705.65957, 'eur': 1883.27185, 'gbp': 1896.58122, 'hkd': 1763.00269, 'huf': 1981.12546, 'idr': 1801.63414, 'ils': 1750.87049, 'inr': 1841.95145, 'jpy': 1963.29169, 'krw': 1888.38441, 'kwd': 1773.2863, 'lkr': 2335.48447, 'ltc': 3283.28791, 'mmk': 1852.39424, 'mxn': 1716.23629, 'myr': 1865.91189, 'ngn': 1760.05422, 'nok': 1914.00844, 'nzd': 1888.02746, 'php': 1864.15206, 'pkr': 2165.99336, 'pln': 1871.76848, 'rub': 1014.41995, 'sar': 1760.8436, 'sek': 1872.81763, 'sgd': 1773.94475, 'thb': 1851.56595, 'try': 2152.75843, 'twd': 1853.17357, 'uah': 2238.78584, 'usd': 1758.43909, 'vef': 1758.43909, 'vnd': 1801.48166, 'xag': 2165.64405, 'xau': 1894.57027, 'xdr': 1802.4579, 'xlm': 2784.88609, 'xrp': 3811.70981, 'yfi': 3147.15402, 'zar': 1903.37746, 'bits': 2970.81815, 'link': 2961.55223, 'sats': 2970.81815}, 'atl_date': {'aed': '2022-03-21T04:22:45.007Z', 'ars': '2022-03-21T04:22:45.007Z', 'aud': '2022-03-21T04:29:19.728Z', 'bch': '2022-03-21T13:00:51.812Z', 'bdt': '2022-03-21T04:22:45.007Z', 'bhd': '2022-03-21T04:22:45.007Z', 'bmd': '2022-03-21T04:22:45.007Z', 'bnb': '2022-03-21T14:01:51.117Z', 'brl': '2022-03-21T04:22:45.007Z', 'btc': '2022-03-21T06:20:11.837Z', 'cad': '2022-03-21T04:22:45.007Z', 'chf': '2022-03-21T04:22:45.007Z', 'clp': '2022-03-21T04:22:45.007Z', 'cny': '2022-03-21T04:22:45.007Z', 'czk': '2022-03-21T07:31:53.417Z', 'dkk': '2022-03-21T04:22:45.007Z', 'dot': '2022-03-21T06:20:11.837Z', 'eos': '2022-03-21T06:20:11.837Z', 'eth': '2022-03-21T14:01:51.117Z', 'eur': '2022-03-21T04:22:45.007Z', 'gbp': '2022-03-21T04:22:45.007Z', 'hkd': '2022-03-21T04:22:45.007Z', 'huf': '2022-03-21T04:22:45.007Z', 'idr': '2022-03-21T04:22:45.007Z', 'ils': '2022-03-21T06:34:20.146Z', 'inr': '2022-03-21T04:22:45.007Z', 'jpy': '2022-03-21T04:22:45.007Z', 'krw': '2022-03-21T04:29:19.728Z', 'kwd': '2022-03-21T04:22:45.007Z', 'lkr': '2022-03-21T04:22:45.007Z', 'ltc': '2022-03-21T06:20:11.837Z', 'mmk': '2022-03-21T04:22:45.007Z', 'mxn': '2022-03-21T04:22:45.007Z', 'myr': '2022-03-21T04:22:45.007Z', 'ngn': '2022-03-21T04:22:45.007Z', 'nok': '2022-03-21T04:22:45.007Z', 'nzd': '2022-03-21T04:29:19.728Z', 'php': '2022-03-21T04:22:45.007Z', 'pkr': '2022-03-21T04:22:45.007Z', 'pln': '2022-03-21T07:31:53.417Z', 'rub': '2022-03-21T04:22:45.007Z', 'sar': '2022-03-21T04:22:45.007Z', 'sek': '2022-03-21T04:22:45.007Z', 'sgd': '2022-03-21T04:22:45.007Z', 'thb': '2022-03-21T04:29:19.728Z', 'try': '2022-03-21T04:22:45.007Z', 'twd': '2022-03-21T04:22:45.007Z', 'uah': '2022-03-21T04:22:45.007Z', 'usd': '2022-03-21T04:22:45.007Z', 'vef': '2022-03-21T04:22:45.007Z', 'vnd': '2022-03-21T04:22:45.007Z', 'xag': '2022-03-21T04:29:19.728Z', 'xau': '2022-03-21T04:29:19.728Z', 'xdr': '2022-03-21T04:22:45.007Z', 'xlm': '2022-03-21T13:00:51.812Z', 'xrp': '2022-03-21T12:31:42.780Z', 'yfi': '2022-03-21T14:01:51.117Z', 'zar': '2022-03-21T04:22:45.007Z', 'bits': '2022-03-21T06:20:11.837Z', 'link': '2022-03-21T14:01:51.117Z', 'sats': '2022-03-21T06:20:11.837Z'}, 'market_cap': {'aed': 0.0, 'ars': 0.0, 'aud': 0.0, 'bch': 0.0, 'bdt': 0.0, 'bhd': 0.0, 'bmd': 0.0, 'bnb': 0.0, 'brl': 0.0, 'btc': 0.0, 'cad': 0.0, 'chf': 0.0, 'clp': 0.0, 'cny': 0.0, 'czk': 0.0, 'dkk': 0.0, 'dot': 0.0, 'eos': 0.0, 'eth': 0.0, 'eur': 0.0, 'gbp': 0.0, 'hkd': 0.0, 'huf': 0.0, 'idr': 0.0, 'ils': 0.0, 'inr': 0.0, 'jpy': 0.0, 'krw': 0.0, 'kwd': 0.0, 'lkr': 0.0, 'ltc': 0.0, 'mmk': 0.0, 'mxn': 0.0, 'myr': 0.0, 'ngn': 0.0, 'nok': 0.0, 'nzd': 0.0, 'php': 0.0, 'pkr': 0.0, 'pln': 0.0, 'rub': 0.0, 'sar': 0.0, 'sek': 0.0, 'sgd': 0.0, 'thb': 0.0, 'try': 0.0, 'twd': 0.0, 'uah': 0.0, 'usd': 0.0, 'vef': 0.0, 'vnd': 0.0, 'xag': 0.0, 'xau': 0.0, 'xdr': 0.0, 'xlm': 0.0, 'xrp': 0.0, 'yfi': 0.0, 'zar': 0.0, 'bits': 0.0, 'link': 0.0, 'sats': 0.0}, 'market_cap_rank': None, 'fully_diluted_valuation': {}, 'total_volume': {'aed': 964.43, 'ars': 35187, 'aud': 368.54, 'bch': 1.783178, 'bdt': 24946, 'bhd': 98.99, 'bmd': 262.58, 'bnb': 0.79433231, 'brl': 1341.44, 'btc': 0.01064201, 'cad': 334.36, 'chf': 246.47, 'clp': 232233, 'cny': 1768.81, 'czk': 6173.56, 'dkk': 1887.08, 'dot': 27.897734, 'eos': 198.998, 'eth': 0.13789694, 'eur': 253.66, 'gbp': 214.45, 'hkd': 2059.69, 'huf': 99898, 'idr': 3853239, 'ils': 848.45, 'inr': 20869, 'jpy': 34803, 'krw': 340946, 'kwd': 80.45, 'lkr': 95296, 'ltc': 4.179336, 'mmk': 489501, 'mxn': 5244.71, 'myr': 1170.32, 'ngn': 109039, 'nok': 2490.44, 'nzd': 407.04, 'php': 14528.51, 'pkr': 58148, 'pln': 1188.2, 'rub': 15918.87, 'sar': 986.08, 'sek': 2628.99, 'sgd': 359.17, 'thb': 9224.41, 'try': 4714.77, 'twd': 7866.43, 'uah': 9695.21, 'usd': 262.58, 'vef': 26.29, 'vnd': 6142925, 'xag': 12.83, 'xau': 0.146451, 'xdr': 192.8, 'xlm': 2073, 'xrp': 687.078, 'yfi': 0.02283972, 'zar': 4249.14, 'bits': 10642.01, 'link': 29.053095, 'sats': 1064201}, 'high_24h': {'aed': 8.56, 'ars': 312.69, 'aud': 3.29, 'bch': 0.01663432, 'bdt': 221.36, 'bhd': 0.878264, 'bmd': 2.33, 'bnb': 0.00711319, 'brl': 11.87, 'btc': 9.856e-05, 'cad': 2.98, 'chf': 2.2, 'clp': 2067.76, 'cny': 15.69, 'czk': 55.04, 'dkk': 16.83, 'dot': 0.24760241, 'eos': 1.863904, 'eth': 0.00128256, 'eur': 2.26, 'gbp': 1.91, 'hkd': 18.28, 'huf': 895.28, 'idr': 34401, 'ils': 7.6, 'inr': 185.13, 'jpy': 309.73, 'krw': 3025.65, 'kwd': 0.713714, 'lkr': 845.52, 'ltc': 0.03800097, 'mmk': 4343.12, 'mxn': 46.67, 'myr': 10.38, 'ngn': 974.03, 'nok': 22.18, 'nzd': 3.64, 'php': 129.12, 'pkr': 521.82, 'pln': 10.58, 'rub': 143.27, 'sar': 8.76, 'sek': 23.42, 'sgd': 3.19, 'thb': 82.35, 'try': 41.83, 'twd': 69.76, 'uah': 86.09, 'usd': 2.33, 'vef': 0.233278, 'vnd': 54503, 'xag': 0.113598, 'xau': 0.00129976, 'xdr': 1.71, 'xlm': 18.674027, 'xrp': 6.186075, 'yfi': 0.00020567, 'zar': 37.77, 'bits': 98.56, 'link': 0.25792195, 'sats': 9856.05}, 'low_24h': {'aed': 8.39, 'ars': 306.1, 'aud': 3.22, 'bch': 0.01553882, 'bdt': 215.79, 'bhd': 0.861235, 'bmd': 2.28, 'bnb': 0.00684125, 'brl': 11.6, 'btc': 9.253e-05, 'cad': 2.92, 'chf': 2.15, 'clp': 2024.1, 'cny': 15.37, 'czk': 53.89, 'dkk': 16.49, 'dot': 0.23832682, 'eos': 1.728252, 'eth': 0.0011893, 'eur': 2.22, 'gbp': 1.87, 'hkd': 17.92, 'huf': 873.76, 'idr': 33684, 'ils': 7.42, 'inr': 180.82, 'jpy': 303.21, 'krw': 2971.78, 'kwd': 0.699959, 'lkr': 815.87, 'ltc': 0.03627994, 'mmk': 4258.49, 'mxn': 45.73, 'myr': 10.16, 'ngn': 948.6, 'nok': 21.74, 'nzd': 3.56, 'php': 126.61, 'pkr': 504.84, 'pln': 10.36, 'rub': 138.32, 'sar': 8.59, 'sek': 22.97, 'sgd': 3.13, 'thb': 80.55, 'try': 40.81, 'twd': 68.45, 'uah': 84.41, 'usd': 2.28, 'vef': 0.228732, 'vnd': 53423, 'xag': 0.110388, 'xau': 0.00127488, 'xdr': 1.67, 'xlm': 18.026459, 'xrp': 5.939389, 'yfi': 0.00019496, 'zar': 36.97, 'bits': 92.53, 'link': 0.24745395, 'sats': 9252.54}, 'price_change_24h': -0.01069944893717, 'price_change_percentage_24h': -0.46442, 'price_change_percentage_7d': 7.32701, 'price_change_percentage_14d': -7.42846, 'price_change_percentage_30d': -24.45055, 'price_change_percentage_60d': -46.30861, 'price_change_percentage_200d': 0.0, 'price_change_percentage_1y': 0.0, 'market_cap_change_24h': 0.0, 'market_cap_change_percentage_24h': 0.0, 'price_change_24h_in_currency': {'aed': -0.039528386774717816, 'ars': -1.5443538664912353, 'aud': -0.03123808642183734, 'bch': -0.000729520855241668, 'bdt': -1.0548140809212612, 'bhd': -0.004051983618347799, 'bmd': -0.010699448937166787, 'bnb': 4.777e-05, 'brl': 0.098082, 'btc': -3.385875387689e-06, 'cad': -0.022595331111438632, 'chf': -0.013560952154440644, 'clp': -21.442713839464886, 'cny': -0.0476543358967465, 'czk': -0.31375739955691273, 'dkk': -0.09117733762656854, 'dot': 0.00111863, 'eos': -0.11165744834222124, 'eth': -5.4166717130005e-05, 'eur': -0.012004041751112917, 'gbp': -0.008434030331637032, 'hkd': -0.08939882328969162, 'huf': -4.126507242807179, 'idr': -400.51104814539576, 'ils': -0.10784703238493609, 'inr': 0.166155, 'jpy': -0.49083483198876365, 'krw': -13.160597633083853, 'kwd': -0.003301317133340365, 'lkr': 1.46, 'ltc': -0.000867424683745781, 'mmk': -19.948370725998757, 'mxn': -0.12915890934933572, 'myr': -0.04307982844534486, 'ngn': -12.343779103688576, 'nok': -0.21737931089641194, 'nzd': -0.03867258020268416, 'php': -0.7578746772288696, 'pkr': -9.108030588612735, 'pln': -0.04014100229516693, 'rub': -1.9341949553504207, 'sar': -0.05025734087802291, 'sek': -0.1583936389740579, 'sgd': -0.016139863066775284, 'thb': -0.675366646561713, 'try': -0.06724864616221993, 'twd': -0.23760022267623526, 'uah': -0.46217457734069, 'usd': -0.010699448937166787, 'vef': -0.001071335822078273, 'vnd': -239.8278667401537, 'xag': 0.00127636, 'xau': -7.14829017066e-07, 'xdr': -0.008802946060171735, 'xlm': -0.28988047257522354, 'xrp': -0.11130119817243767, 'yfi': -4.58975343533e-07, 'zar': -0.08611562287641306, 'bits': -3.385875387688543, 'link': 0.002116, 'sats': -338.58753876885385}, 'price_change_percentage_1h_in_currency': {'aed': -1.22, 'ars': -1.40908, 'aud': -1.25089, 'bch': -2.20613, 'bdt': -1.21691, 'bhd': -1.2431, 'bmd': -1.21691, 'bnb': -1.0148, 'brl': -0.48055, 'btc': -1.26193, 'cad': -1.34273, 'chf': -1.13781, 'clp': -0.77375, 'cny': -1.25062, 'czk': -1.34447, 'dkk': -1.27872, 'dot': -0.80609, 'eos': -0.88393, 'eth': -0.80151, 'eur': -1.27465, 'gbp': -1.39403, 'hkd': -1.21382, 'huf': -1.26362, 'idr': -1.22255, 'ils': -1.40505, 'inr': -1.26064, 'jpy': -0.89826, 'krw': -1.34142, 'kwd': -1.24978, 'lkr': -1.21691, 'ltc': -1.09141, 'mmk': -1.21691, 'mxn': -1.00991, 'myr': -0.95023, 'ngn': -1.21691, 'nok': -1.15537, 'nzd': -1.28505, 'php': -1.216, 'pkr': -0.53663, 'pln': -1.2006, 'rub': -1.21691, 'sar': -1.27411, 'sek': -1.32117, 'sgd': -1.20665, 'thb': -1.0743, 'try': -1.15746, 'twd': -1.24888, 'uah': -1.21691, 'usd': -1.21691, 'vef': -1.21691, 'vnd': -1.21691, 'xag': -1.25331, 'xau': -1.13359, 'xdr': -1.21691, 'xlm': -1.1857, 'xrp': -0.87064, 'yfi': -0.05445, 'zar': -0.87188, 'bits': -1.26193, 'link': -0.34651, 'sats': -1.26193}, 'price_change_percentage_24h_in_currency': {'aed': -0.46713, 'ars': -0.50007, 'aud': -0.96127, 'bch': -4.47503, 'bdt': -0.48186, 'bhd': -0.46654, 'bmd': -0.46442, 'bnb': 0.69347, 'brl': 0.84432, 'btc': -3.51514, 'cad': -0.76788, 'chf': -0.62609, 'clp': -1.04622, 'cny': -0.30755, 'czk': -0.57859, 'dkk': -0.55022, 'dot': 0.46127, 'eos': -6.03715, 'eth': -4.30434, 'eur': -0.53897, 'gbp': -0.44833, 'hkd': -0.49455, 'huf': -0.47077, 'idr': -1.17621, 'ils': -1.43464, 'inr': 0.09125, 'jpy': -0.16123, 'krw': -0.44006, 'kwd': -0.46767, 'lkr': 0.17597, 'ltc': -2.32145, 'mmk': -0.46448, 'mxn': -0.2812, 'myr': -0.41974, 'ngn': -1.2797, 'nok': -0.9896, 'nzd': -1.07622, 'php': -0.59378, 'pkr': -1.76199, 'pln': -0.38535, 'rub': -1.37222, 'sar': -0.58022, 'sek': -0.68517, 'sgd': -0.51192, 'thb': -0.8314, 'try': -0.16306, 'twd': -0.34467, 'uah': -0.5429, 'usd': -0.46442, 'vef': -0.46442, 'vnd': -0.44506, 'xag': 1.15236, 'xau': -0.05586, 'xdr': -0.52011, 'xlm': -1.57608, 'xrp': -1.82116, 'yfi': -0.22958, 'zar': -0.23153, 'bits': -3.51514, 'link': 0.841, 'sats': -3.51514}, 'price_change_percentage_7d_in_currency': {'aed': 7.32394, 'ars': 8.61295, 'aud': 4.56567, 'bch': -2.35814, 'bdt': 7.71538, 'bhd': 7.32217, 'bmd': 7.32701, 'bnb': -3.14246, 'brl': 3.76244, 'btc': -0.60638, 'cad': 6.32651, 'chf': 4.80484, 'clp': 4.12587, 'cny': 6.98238, 'czk': 3.99672, 'dkk': 5.26735, 'dot': -8.55355, 'eos': -4.41952, 'eth': -8.67371, 'eur': 5.31509, 'gbp': 6.40083, 'hkd': 7.2527, 'huf': 5.132, 'idr': 5.79693, 'ils': 3.05903, 'inr': 7.81332, 'jpy': 6.17745, 'krw': 6.53611, 'kwd': 7.14692, 'lkr': 9.18538, 'ltc': -1.40682, 'mmk': 8.13701, 'mxn': 4.61258, 'myr': 7.32701, 'ngn': 7.26295, 'nok': 4.70266, 'nzd': 4.27819, 'php': 6.53756, 'pkr': 3.32964, 'pln': 5.01312, 'rub': 5.06539, 'sar': 7.19266, 'sek': 5.14489, 'sgd': 6.32715, 'thb': 3.98849, 'try': 7.43771, 'twd': 7.36392, 'uah': 7.90136, 'usd': 7.32701, 'vef': 7.32701, 'vnd': 7.48575, 'xag': 4.89232, 'xau': 5.59095, 'xdr': 7.47895, 'xlm': -3.15864, 'xrp': 3.79333, 'yfi': 0.19756, 'zar': 3.40561, 'bits': -0.60638, 'link': -13.61521, 'sats': -0.60638}, 'price_change_percentage_14d_in_currency': {'aed': -7.43174, 'ars': -5.24242, 'aud': -9.04985, 'bch': -20.13016, 'bdt': -7.04811, 'bhd': -7.42797, 'bmd': -7.42846, 'bnb': -24.46109, 'brl': -9.82549, 'btc': -14.1338, 'cad': -8.01683, 'chf': -9.34661, 'clp': -10.61546, 'cny': -7.73254, 'czk': -9.54393, 'dkk': -8.81892, 'dot': -26.45642, 'eos': -11.78363, 'eth': -20.55176, 'eur': -8.75319, 'gbp': -8.03452, 'hkd': -7.48908, 'huf': -11.06692, 'idr': -8.95551, 'ils': -12.59925, 'inr': -7.85812, 'jpy': -9.9566, 'krw': -7.98127, 'kwd': -7.73291, 'lkr': -6.56695, 'ltc': -13.20642, 'mmk': -6.68327, 'mxn': -9.30217, 'myr': -7.45961, 'ngn': -8.78013, 'nok': -9.82573, 'nzd': -10.08828, 'php': -7.86143, 'pkr': -13.14776, 'pln': -10.70131, 'rub': -5.47959, 'sar': -7.44983, 'sek': -9.28846, 'sgd': -8.38807, 'thb': -11.35783, 'try': -7.01469, 'twd': -7.14206, 'uah': -7.30233, 'usd': -7.42846, 'vef': -7.42846, 'vnd': -7.37433, 'xag': -13.31653, 'xau': -10.2041, 'xdr': -7.58717, 'xlm': -17.9882, 'xrp': -13.12487, 'yfi': -42.45372, 'zar': -10.18779, 'bits': -14.1338, 'link': -30.0922, 'sats': -14.1338}, 'price_change_percentage_30d_in_currency': {'aed': -24.45055, 'ars': -20.52486, 'aud': -28.62221, 'bch': -46.7514, 'bdt': -23.38623, 'bhd': -24.45215, 'bmd': -24.45055, 'bnb': -47.16801, 'brl': -27.82568, 'btc': -37.44435, 'cad': -26.07941, 'chf': -27.66927, 'clp': -32.56136, 'cny': -24.22106, 'czk': -27.30085, 'dkk': -26.5056, 'dot': -45.64551, 'eos': -44.23812, 'eth': -54.75241, 'eur': -26.48484, 'gbp': -26.66665, 'hkd': -24.50613, 'huf': -29.51218, 'idr': -26.18017, 'ils': -29.94387, 'inr': -24.49087, 'jpy': -27.16325, 'krw': -25.28879, 'kwd': -24.80053, 'lkr': -24.65973, 'ltc': -39.41864, 'mmk': -23.81055, 'mxn': -27.26392, 'myr': -23.93858, 'ngn': -24.46318, 'nok': -29.77022, 'nzd': -28.39596, 'php': -25.40573, 'pkr': -19.18574, 'pln': -28.36294, 'rub': -26.99503, 'sar': -24.41925, 'sek': -28.74053, 'sgd': -26.46107, 'thb': -26.69989, 'try': -21.91746, 'twd': -24.20692, 'uah': -5.75066, 'usd': -24.45055, 'vef': -24.45055, 'vnd': -24.31799, 'xag': -29.18265, 'xau': -26.80364, 'xdr': -24.34824, 'xlm': -36.49818, 'xrp': -36.24975, 'yfi': -61.68097, 'zar': -28.365, 'bits': -37.44435, 'link': -48.10097, 'sats': -37.44435}, 'price_change_percentage_60d_in_currency': {'aed': -46.31154, 'ars': -40.92357, 'aud': -46.85801, 'bch': -42.90939, 'bdt': -45.53386, 'bhd': -46.29308, 'bmd': -46.30861, 'bnb': -56.17755, 'brl': -45.0026, 'btc': -38.25966, 'cad': -46.51911, 'chf': -48.98334, 'clp': -42.95428, 'cny': -46.08933, 'czk': -46.24871, 'dkk': -45.43355, 'dot': -54.26827, 'eos': -54.54474, 'eth': -56.81582, 'eur': -45.43487, 'gbp': -45.99311, 'hkd': -46.34777, 'huf': -46.01988, 'idr': -46.08958, 'ils': -48.88755, 'inr': -45.41561, 'jpy': -47.05711, 'krw': -45.50407, 'kwd': -46.3655, 'lkr': -46.03325, 'ltc': -55.47359, 'mmk': -45.96382, 'mxn': -46.31673, 'myr': -45.5326, 'ngn': -46.65781, 'nok': -47.57732, 'nzd': -46.96116, 'php': -44.01159, 'pkr': -41.13882, 'pln': -44.54426, 'rub': -43.51329, 'sar': -46.26053, 'sek': -46.39978, 'sgd': -47.08302, 'thb': -45.65748, 'try': -43.6742, 'twd': -45.77228, 'uah': -32.93273, 'usd': -46.30861, 'vef': -46.30861, 'vnd': -45.8175, 'xag': -42.57715, 'xau': -43.95944, 'xdr': -45.98966, 'xlm': -47.04046, 'xrp': -49.42961, 'yfi': -70.33943, 'zar': -45.21332, 'bits': -38.25966, 'link': -58.32517, 'sats': -38.25966}, 'price_change_percentage_200d_in_currency': {}, 'price_change_percentage_1y_in_currency': {}, 'market_cap_change_24h_in_currency': {'aed': 0.0, 'ars': 0.0, 'aud': 0.0, 'bch': 0.0, 'bdt': 0.0, 'bhd': 0.0, 'bmd': 0.0, 'bnb': 0.0, 'brl': 0.0, 'btc': 0.0, 'cad': 0.0, 'chf': 0.0, 'clp': 0.0, 'cny': 0.0, 'czk': 0.0, 'dkk': 0.0, 'dot': 0.0, 'eos': 0.0, 'eth': 0.0, 'eur': 0.0, 'gbp': 0.0, 'hkd': 0.0, 'huf': 0.0, 'idr': 0.0, 'ils': 0.0, 'inr': 0.0, 'jpy': 0.0, 'krw': 0.0, 'kwd': 0.0, 'lkr': 0.0, 'ltc': 0.0, 'mmk': 0.0, 'mxn': 0.0, 'myr': 0.0, 'ngn': 0.0, 'nok': 0.0, 'nzd': 0.0, 'php': 0.0, 'pkr': 0.0, 'pln': 0.0, 'rub': 0.0, 'sar': 0.0, 'sek': 0.0, 'sgd': 0.0, 'thb': 0.0, 'try': 0.0, 'twd': 0.0, 'uah': 0.0, 'usd': 0.0, 'vef': 0.0, 'vnd': 0.0, 'xag': 0.0, 'xau': 0.0, 'xdr': 0.0, 'xlm': 0.0, 'xrp': 0.0, 'yfi': 0.0, 'zar': 0.0, 'bits': 0.0, 'link': 0.0, 'sats': 0.0}, 'market_cap_change_percentage_24h_in_currency': {'aed': 0.0, 'ars': 0.0, 'aud': 0.0, 'bch': 0.0, 'bdt': 0.0, 'bhd': 0.0, 'bmd': 0.0, 'bnb': 0.0, 'brl': 0.0, 'btc': 0.0, 'cad': 0.0, 'chf': 0.0, 'clp': 0.0, 'cny': 0.0, 'czk': 0.0, 'dkk': 0.0, 'dot': 0.0, 'eos': 0.0, 'eth': 0.0, 'eur': 0.0, 'gbp': 0.0, 'hkd': 0.0, 'huf': 0.0, 'idr': 0.0, 'ils': 0.0, 'inr': 0.0, 'jpy': 0.0, 'krw': 0.0, 'kwd': 0.0, 'lkr': 0.0, 'ltc': 0.0, 'mmk': 0.0, 'mxn': 0.0, 'myr': 0.0, 'ngn': 0.0, 'nok': 0.0, 'nzd': 0.0, 'php': 0.0, 'pkr': 0.0, 'pln': 0.0, 'rub': 0.0, 'sar': 0.0, 'sek': 0.0, 'sgd': 0.0, 'thb': 0.0, 'try': 0.0, 'twd': 0.0, 'uah': 0.0, 'usd': 0.0, 'vef': 0.0, 'vnd': 0.0, 'xag': 0.0, 'xau': 0.0, 'xdr': 0.0, 'xlm': 0.0, 'xrp': 0.0, 'yfi': 0.0, 'zar': 0.0, 'bits': 0.0, 'link': 0.0, 'sats': 0.0}, 'total_supply': 1750634.75486158, 'max_supply': None, 'circulating_supply': 0.0, 'last_updated': '2022-08-11T14:39:59.182Z'}, 'community_data': {'facebook_likes': None, 'twitter_followers': 12794, 'reddit_average_posts_48h': 0.0, 'reddit_average_comments_48h': 0.0, 'reddit_subscribers': 0, 'reddit_accounts_active_48h': 0, 'telegram_channel_user_count': None}, 'developer_data': {'forks': 0, 'stars': 0, 'subscribers': 0, 'total_issues': 0, 'closed_issues': 0, 'pull_requests_merged': 0, 'pull_request_contributors': 0, 'code_additions_deletions_4_weeks': {'additions': None, 'deletions': None}, 'commit_count_4_weeks': 0, 'last_4_weeks_commit_activity_series': []}, 'public_interest_stats': {'alexa_rank': None, 'bing_matches': None}, 'status_updates': [], 'last_updated': '2022-08-11T14:39:59.182Z', 'tickers': [{'base': '0X2791BCA1F2DE4661ED88A30C99A7A9449AA84174', 'target': '0XD838290E877E0188A4A44700463419ED96C16107', 'market': {'name': 'Sushiswap (Polygon POS)', 'identifier': 'sushiswap_polygon_pos', 'has_trading_incentive': False}, 'last': 0.43246537911044, 'volume': 263.392436, 'converted_last': {'btc': 9.294e-05, 'eth': 0.00120426, 'usd': 2.29}, 'converted_volume': {'btc': 0.01064201, 'eth': 0.13789694, 'usd': 262.58}, 'trust_score': 'yellow', 'bid_ask_spread_percentage': 0.60308, 'timestamp': '2022-08-11T14:10:38+00:00', 'last_traded_at': '2022-08-11T14:10:38+00:00', 'last_fetch_at': '2022-08-11T14:39:35+00:00', 'is_anomaly': False, 'is_stale': False, 'trade_url': 'https://app.sushi.com/en/swap?inputCurrency=0x2791bca1f2de4661ed88a30c99a7a9449aa84174&outputCurrency=0xd838290e877e0188a4a44700463419ed96c16107', 'token_info_url': None, 'coin_id': 'usd-coin', 'target_coin_id': 'toucan-protocol-nature-carbon-tonne'}]}\n"
          ]
        }
      ]
    },
    {
      "cell_type": "code",
      "source": [
        "#get NCT price and market chart\n",
        "NCTmarket = data.get_coin_market_chart_by_id(id = 'toucan-protocol-nature-carbon-tonne', vs_currency = 'usd', days = 10)\n",
        "print(NCTmarket)\n",
        "\n"
      ],
      "metadata": {
        "colab": {
          "base_uri": "https://localhost:8080/"
        },
        "id": "CIKcFNyJbjkC",
        "outputId": "e3d7732a-5ef2-4653-f936-d6c601e2e25d"
      },
      "execution_count": null,
      "outputs": [
        {
          "output_type": "stream",
          "name": "stdout",
          "text": [
            "{'prices': [[1659366374757, 2.412546068777908], [1659369978695, 2.42675085005286], [1659373564643, 2.406179899163057], [1659377166873, 2.4173351519646133], [1659380789002, 2.4156340832339893], [1659384394413, 2.4179258929297633], [1659387988237, 2.4270613259459304], [1659391550391, 2.41507119436831], [1659395167675, 2.4202255464078757], [1659398755145, 2.418456461074281], [1659402375873, 2.429970710426522], [1659409589333, 2.407424323642165], [1659413339267, 2.426444446506117], [1659416746424, 2.4211330627545626], [1659420347252, 2.418821121491276], [1659423969293, 2.42187016855457], [1659427579976, 2.4201265181113034], [1659431178231, 2.411911746143247], [1659434775932, 2.414425860045286], [1659438345988, 2.4254705684240543], [1659442027059, 2.441398572760218], [1659445554785, 2.4359823244302063], [1659449141274, 2.415866145572675], [1659452766838, 2.4567434609335193], [1659456369640, 2.435247000760929], [1659460010755, 2.4295087711989343], [1659463602883, 2.41542435518496], [1659467176659, 2.412278196273098], [1659470793165, 2.421557017192156], [1659474411259, 2.413909762606942], [1659478006899, 2.3752138976235027], [1659481597323, 2.3491703583488475], [1659485149482, 2.328342275588528], [1659488799997, 2.3212696224366263], [1659492400252, 2.2999718576190924], [1659495947782, 2.297333421403429], [1659499573630, 2.3009739353315943], [1659503154667, 2.297476791730605], [1659506759977, 2.3077586010859537], [1659510473465, 2.3106911645100174], [1659513961207, 2.310933270413901], [1659517565017, 2.3246057774053988], [1659521146397, 2.2827265286055476], [1659524751175, 2.284699046970892], [1659528366955, 2.287769418393178], [1659531975856, 2.3023467674433444], [1659535547269, 2.2885232039182317], [1659539157988, 2.2435805463272187], [1659542790785, 2.2218547493892373], [1659546416863, 2.179841421938709], [1659549973713, 2.1564304338669134], [1659553611181, 2.1279023223103084], [1659557257058, 2.143936845909043], [1659560813390, 2.140790077611739], [1659564399448, 2.142877085030815], [1659567986332, 2.138040111186652], [1659571572225, 2.1463570510084584], [1659575192409, 2.1431219662865786], [1659578769166, 2.12906034072488], [1659582345613, 2.130771248113289], [1659585973272, 2.1372972984467595], [1659589562467, 2.1457732505017657], [1659593170329, 2.1263043062323317], [1659596767070, 2.1314771514955706], [1659600358136, 2.129712731889118], [1659604175579, 2.136795053057883], [1659607575176, 2.1432873714230847], [1659611160350, 2.1788368405027905], [1659614763503, 2.1861940682687764], [1659618360785, 2.1729066421785572], [1659621963916, 2.1769785637307524], [1659625552912, 2.1743477009200483], [1659629186011, 2.167512390238429], [1659632775879, 2.190699050151451], [1659636369562, 2.166409973608367], [1659639965705, 2.1782868431189506], [1659643562958, 2.1746919273630225], [1659647185482, 2.17336462214906], [1659650770997, 2.1683018919178787], [1659654420968, 2.164435147680365], [1659657963865, 2.1592347049506597], [1659661583611, 2.171959591062145], [1659665165465, 2.1743223265651492], [1659668816428, 2.1538963242720786], [1659672351945, 2.1623702200723227], [1659679570065, 2.257185904510955], [1659683145786, 2.265056326340719], [1659686748323, 2.2674669936561935], [1659690694309, 2.282348083766818], [1659693976038, 2.2726261391508293], [1659697585280, 2.2807417611376337], [1659701184819, 2.293837029285051], [1659704769128, 2.270859259665694], [1659708389180, 2.2855305529339063], [1659711994681, 2.2588647067410603], [1659715593468, 2.286839375219839], [1659719181376, 2.293713375398174], [1659722809394, 2.310666575935124], [1659726380616, 2.304291219573972], [1659729986767, 2.294415709132569], [1659733598312, 2.2998566909499774], [1659737163823, 2.295134785772881], [1659740816218, 2.2885607806048105], [1659744401708, 2.290312155383057], [1659748012313, 2.2962944661792197], [1659751604766, 2.2867472108052485], [1659755166299, 2.2958449568071626], [1659758755495, 2.2924709642837224], [1659762357065, 2.3001563959350215], [1659765978490, 2.3016292802469], [1659769585205, 2.294662183194045], [1659773185898, 2.2912054415378837], [1659776775198, 2.2963538705531965], [1659780371875, 2.293773699527393], [1659783950557, 2.2904541755348458], [1659787591093, 2.2854554774060882], [1659791172889, 2.294560356679767], [1659794820879, 2.286104135150101], [1659798406610, 2.285844850392405], [1659801985233, 2.3078454103946746], [1659805571945, 2.284263423879025], [1659809175078, 2.2835274382250152], [1659812774389, 2.292663121041798], [1659816413095, 2.2900584205611128], [1659819972231, 2.2885905349778204], [1659823558925, 2.289524235139372], [1659827194303, 2.289153791312756], [1659830782644, 2.2816617729056197], [1659834372483, 2.3125637356676028], [1659837962022, 2.302179748660755], [1659841556022, 2.303952574839308], [1659845168101, 2.299423388074469], [1659848767837, 2.3026250426242934], [1659852365242, 2.300154969377358], [1659855973394, 2.3169677147174883], [1659859574555, 2.3058176447093897], [1659863179212, 2.309021860104051], [1659866749494, 2.2953114027123633], [1659870410284, 2.2940224728233147], [1659873984762, 2.3059434737645863], [1659877568419, 2.3000009750026624], [1659881180838, 2.301787977487859], [1659884809944, 2.3029576929096383], [1659888377871, 2.302915993104455], [1659891991623, 2.307520024528001], [1659895603453, 2.315665509651971], [1659899192897, 2.296064079330357], [1659902776109, 2.3141461243062533], [1659906407470, 2.3040501475953685], [1659909998707, 2.3126926248540287], [1659913577859, 2.2874700523782914], [1659917268226, 2.2934982409846874], [1659920811177, 2.269294455470107], [1659924371765, 2.285053883599375], [1659927962288, 2.2946125772107373], [1659931593071, 2.2880925240866548], [1659935174041, 2.27889636742797], [1659938748374, 2.2871271661619526], [1659942353385, 2.2807780874478145], [1659945977192, 2.290516162905721], [1659949584457, 2.2855967988946086], [1659953154429, 2.291452588819805], [1659956762542, 2.2877004324624566], [1659960364515, 2.28262084722807], [1659963959812, 2.287536221935978], [1659967574593, 2.2849221494420013], [1659971107328, 2.2827202796358503], [1659974771301, 2.2987658310450856], [1659978354625, 2.2933825712668816], [1659981972411, 2.2873918359018184], [1659985555590, 2.284513102554798], [1659989197057, 2.294890659730585], [1659992776440, 2.2924586059712855], [1659996352382, 2.2862505721473543], [1659999962142, 2.2874951004411495], [1660003577164, 2.2866343270855425], [1660007157292, 2.29144468506555], [1660010832195, 2.2920996074485416], [1660014567755, 2.3024640605082056], [1660018125648, 2.2908796908793363], [1660021595774, 2.2861939004240903], [1660025143443, 2.2707041153614824], [1660028752154, 2.2796368432304006], [1660032350437, 2.2715631394657114], [1660035948523, 2.273227095601881], [1660039740418, 2.286409103723007], [1660043186586, 2.2768417545196162], [1660046797868, 2.271490840055798], [1660050427111, 2.2714266014887476], [1660054043961, 2.3125076323641904], [1660057755595, 2.2813606177636445], [1660061166122, 2.29457459313255], [1660064785597, 2.2930968790968227], [1660068442917, 2.292119892205492], [1660071992405, 2.289180701383366], [1660075591163, 2.3000329747671526], [1660079262989, 2.2938501663991024], [1660082900551, 2.292445842997721], [1660086377517, 2.2899622059742977], [1660089994797, 2.284380355180607], [1660093571121, 2.291130886800981], [1660097223934, 2.2930074492509633], [1660100766590, 2.2941956623130793], [1660104391834, 2.2762400882965546], [1660111601077, 2.2880953662913046], [1660115227905, 2.305369008388609], [1660118766870, 2.3041057753160046], [1660122520489, 2.3007420590904823], [1660125976509, 2.3012054488361477], [1660129580364, 2.2962881131522797], [1660133173410, 2.2998052476499864], [1660136792850, 2.309979764157682], [1660140390896, 2.300532450594343], [1660144026376, 2.298724536693174], [1660147591984, 2.307202342112345], [1660151199201, 2.3121736832150623], [1660154794274, 2.298688002693268], [1660158417892, 2.3238632935784413], [1660161990163, 2.3123519749749626], [1660165608740, 2.311676465402976], [1660169176001, 2.311746064033754], [1660172815517, 2.3228882137061273], [1660176380864, 2.29288176528307], [1660180021032, 2.293531370650513], [1660183677864, 2.2981077518407087], [1660187155616, 2.301702162677821], [1660190814842, 2.2929866107455896], [1660194432277, 2.29809372104714], [1660197985370, 2.299513736227135], [1660201573333, 2.3083005466883586], [1660205162616, 2.2945986712093656], [1660208921715, 2.30844235373677], [1660212379640, 2.3120238743232537], [1660215969648, 2.3076743551793606], [1660219576563, 2.3196827964166293], [1660223170690, 2.3158515928590737], [1660226780983, 2.3071984610663403], [1660230289000, 2.3143475328856806]], 'market_caps': [[1659366374757, 0.0], [1659369978695, 0.0], [1659373564643, 0.0], [1659377166873, 0.0], [1659380789002, 0.0], [1659384394413, 0.0], [1659387988237, 0.0], [1659391550391, 0.0], [1659395167675, 0.0], [1659398755145, 0.0], [1659402375873, 0.0], [1659409589333, 0.0], [1659413339267, 0.0], [1659416746424, 0.0], [1659420347252, 0.0], [1659423969293, 0.0], [1659427579976, 0.0], [1659431178231, 0.0], [1659434775932, 0.0], [1659438345988, 0.0], [1659442027059, 0.0], [1659445554785, 0.0], [1659449141274, 0.0], [1659452766838, 0.0], [1659456369640, 0.0], [1659460010755, 0.0], [1659463602883, 0.0], [1659467176659, 0.0], [1659470793165, 0.0], [1659474411259, 0.0], [1659478006899, 0.0], [1659481597323, 0.0], [1659485149482, 0.0], [1659488799997, 0.0], [1659492400252, 0.0], [1659495947782, 0.0], [1659499573630, 0.0], [1659503154667, 0.0], [1659506759977, 0.0], [1659510473465, 0.0], [1659513961207, 0.0], [1659517565017, 0.0], [1659521146397, 0.0], [1659524751175, 0.0], [1659528366955, 0.0], [1659531975856, 0.0], [1659535547269, 0.0], [1659539157988, 0.0], [1659542790785, 0.0], [1659546416863, 0.0], [1659549973713, 0.0], [1659553611181, 0.0], [1659557257058, 0.0], [1659560813390, 0.0], [1659564399448, 0.0], [1659567986332, 0.0], [1659571572225, 0.0], [1659575192409, 0.0], [1659578769166, 0.0], [1659582345613, 0.0], [1659585973272, 0.0], [1659589562467, 0.0], [1659593170329, 0.0], [1659596767070, 0.0], [1659600358136, 0.0], [1659604175579, 0.0], [1659607575176, 0.0], [1659611160350, 0.0], [1659614763503, 0.0], [1659618360785, 0.0], [1659621963916, 0.0], [1659625552912, 0.0], [1659629186011, 0.0], [1659632775879, 0.0], [1659636369562, 0.0], [1659639965705, 0.0], [1659643562958, 0.0], [1659647185482, 0.0], [1659650770997, 0.0], [1659654420968, 0.0], [1659657963865, 0.0], [1659661583611, 0.0], [1659665165465, 0.0], [1659668816428, 0.0], [1659672351945, 0.0], [1659679570065, 0.0], [1659683145786, 0.0], [1659686748323, 0.0], [1659690694309, 0.0], [1659693976038, 0.0], [1659697585280, 0.0], [1659701184819, 0.0], [1659704769128, 0.0], [1659708389180, 0.0], [1659711994681, 0.0], [1659715593468, 0.0], [1659719181376, 0.0], [1659722809394, 0.0], [1659726380616, 0.0], [1659729986767, 0.0], [1659733598312, 0.0], [1659737163823, 0.0], [1659740816218, 0.0], [1659744401708, 0.0], [1659748012313, 0.0], [1659751604766, 0.0], [1659755166299, 0.0], [1659758755495, 0.0], [1659762357065, 0.0], [1659765978490, 0.0], [1659769585205, 0.0], [1659773185898, 0.0], [1659776775198, 0.0], [1659780371875, 0.0], [1659783950557, 0.0], [1659787591093, 0.0], [1659791172889, 0.0], [1659794820879, 0.0], [1659798406610, 0.0], [1659801985233, 0.0], [1659805571945, 0.0], [1659809175078, 0.0], [1659812774389, 0.0], [1659816413095, 0.0], [1659819972231, 0.0], [1659823558925, 0.0], [1659827194303, 0.0], [1659830782644, 0.0], [1659834372483, 0.0], [1659837962022, 0.0], [1659841556022, 0.0], [1659845168101, 0.0], [1659848767837, 0.0], [1659852365242, 0.0], [1659855973394, 0.0], [1659859574555, 0.0], [1659863179212, 0.0], [1659866749494, 0.0], [1659870410284, 0.0], [1659873984762, 0.0], [1659877568419, 0.0], [1659881180838, 0.0], [1659884809944, 0.0], [1659888377871, 0.0], [1659891991623, 0.0], [1659895603453, 0.0], [1659899192897, 0.0], [1659902776109, 0.0], [1659906407470, 0.0], [1659909998707, 0.0], [1659913577859, 0.0], [1659917268226, 0.0], [1659920811177, 0.0], [1659924371765, 0.0], [1659927962288, 0.0], [1659931593071, 0.0], [1659935174041, 0.0], [1659938748374, 0.0], [1659942353385, 0.0], [1659945977192, 0.0], [1659949584457, 0.0], [1659953154429, 0.0], [1659956762542, 0.0], [1659960364515, 0.0], [1659963959812, 0.0], [1659967574593, 0.0], [1659971107328, 0.0], [1659974771301, 0.0], [1659978354625, 0.0], [1659981972411, 0.0], [1659985555590, 0.0], [1659989197057, 0.0], [1659992776440, 0.0], [1659996352382, 0.0], [1659999962142, 0.0], [1660003577164, 0.0], [1660007157292, 0.0], [1660010832195, 0.0], [1660014567755, 0.0], [1660018125648, 0.0], [1660021595774, 0.0], [1660025143443, 0.0], [1660028752154, 0.0], [1660032350437, 0.0], [1660035948523, 0.0], [1660039740418, 0.0], [1660043186586, 0.0], [1660046797868, 0.0], [1660050427111, 0.0], [1660054043961, 0.0], [1660057755595, 0.0], [1660061166122, 0.0], [1660064785597, 0.0], [1660068442917, 0.0], [1660071992405, 0.0], [1660075591163, 0.0], [1660079262989, 0.0], [1660082900551, 0.0], [1660086377517, 0.0], [1660089994797, 0.0], [1660093571121, 0.0], [1660097223934, 0.0], [1660100766590, 0.0], [1660104391834, 0.0], [1660111601077, 0.0], [1660115227905, 0.0], [1660118766870, 0.0], [1660122520489, 0.0], [1660125976509, 0.0], [1660129580364, 0.0], [1660133173410, 0.0], [1660136792850, 0.0], [1660140390896, 0.0], [1660144026376, 0.0], [1660147591984, 0.0], [1660151199201, 0.0], [1660154794274, 0.0], [1660158417892, 0.0], [1660161990163, 0.0], [1660165608740, 0.0], [1660169176001, 0.0], [1660172815517, 0.0], [1660176380864, 0.0], [1660180021032, 0.0], [1660183677864, 0.0], [1660187155616, 0.0], [1660190814842, 0.0], [1660194432277, 0.0], [1660197985370, 0.0], [1660201573333, 0.0], [1660205162616, 0.0], [1660208921715, 0.0], [1660212379640, 0.0], [1660215969648, 0.0], [1660219576563, 0.0], [1660223170690, 0.0], [1660226780983, 0.0], [1660230289000, 0.0]], 'total_volumes': [[1659366374757, 125.04558066279412], [1659369978695, 125.78183401177749], [1659373564643, 175.93369870683097], [1659377166873, 176.74934216144968], [1659380789002, 176.62496438170115], [1659384394413, 176.7925356246703], [1659387988237, 177.46049504049847], [1659391550391, 176.58380739251092], [1659395167675, 176.96068038487246], [1659398755145, 176.83132940568117], [1659402375873, 177.67322176671243], [1659409589333, 61.12450357727457], [1659413339267, 61.60742449679029], [1659416746424, 61.472568463338334], [1659420347252, 61.413868274663514], [1659423969293, 61.49128357960053], [1659427579976, 61.44701229484599], [1659431178231, 61.238439234577044], [1659434775932, 61.30227258654983], [1659438345988, 68.93187355461163], [1659442027059, 69.3845474378454], [1659445554785, 74.3144887873683], [1659449141274, 73.70104630363466], [1659452766838, 75.48230697071219], [1659456369640, 74.82753401585617], [1659460010755, 12.96671729625065], [1659463602883, 12.891546281063958], [1659467176659, 1219.013852811975], [1659470793165, 1223.7027859771335], [1659474411259, 1219.8383439365111], [1659478006899, 5950.711680027757], [1659481597323, 8234.634191222282], [1659485149482, 10489.967013994336], [1659488799997, 11618.737138030385], [1659492400252, 13812.106501630376], [1659495947782, 13796.261802536434], [1659499573630, 13818.124316171085], [1659503154667, 13797.122789692256], [1659506759977, 13858.868521656357], [1659510473465, 13876.47955380954], [1659513961207, 13877.9334813948], [1659517565017, 13960.307534552809], [1659521146397, 13708.80784086117], [1659524751175, 13713.731788572473], [1659528366955, 13732.161458875154], [1659531975856, 13814.85590978275], [1659535547269, 17181.43154708718], [1659539157988, 20208.90075614568], [1659542790785, 24456.911404625767], [1659546416863, 27264.214107843], [1659549973713, 30206.04846290337], [1659553611181, 31934.34525808861], [1659557257058, 32319.88007959335], [1659560813390, 32272.442500356257], [1659564399448, 30161.027083442426], [1659567986332, 25816.866381729076], [1659571572225, 23770.93650370068], [1659575192409, 22663.54690878389], [1659578769166, 20385.78466702651], [1659582345613, 20402.16663090897], [1659585973272, 20464.65366064671], [1659589562467, 20545.81102858799], [1659593170329, 20359.395595460388], [1659596767070, 20408.925666372485], [1659600358136, 20392.03132220036], [1659604175579, 20459.600108823895], [1659607575176, 21821.19859903424], [1659611160350, 34462.43211578878], [1659614763503, 34578.800610084654], [1659618360785, 34368.634795409846], [1659621963916, 31151.650787207775], [1659625552912, 27852.482691707562], [1659629186011, 23518.109871572742], [1659632775879, 20483.64297949768], [1659636369562, 17006.918424923468], [1659639965705, 13832.724875996275], [1659643562958, 13662.91975475351], [1659647185482, 13654.580704794178], [1659650770997, 13622.773129652964], [1659654420968, 13598.4795662454], [1659657963865, 13565.806785879993], [1659661583611, 13645.753327108216], [1659665165465, 13660.597666746886], [1659668816428, 13532.267383855256], [1659672351945, 13585.506261910627], [1659679570065, 28106.60195000301], [1659683145786, 32013.67459387061], [1659686748323, 32047.74629358695], [1659690694309, 32258.071472198837], [1659693976038, 30742.80902769619], [1659697585280, 17998.987375727367], [1659701184819, 18102.33163419772], [1659704769128, 17920.99738919539], [1659708389180, 18036.779204927312], [1659711994681, 17826.33967285652], [1659715593468, 18452.746828872558], [1659719181376, 18508.213857456605], [1659722809394, 18645.01101113398], [1659726380616, 18593.56759182306], [1659729986767, 18514.042840311675], [1659733598312, 18557.947077046058], [1659737163823, 18519.845195861802], [1659740816218, 18466.798394957492], [1659744401708, 18480.930545266972], [1659748012313, 18575.2060290676], [1659751604766, 18497.976284278502], [1659755166299, 18571.569853776957], [1659758755495, 18544.276922845627], [1659762357065, 18606.445986285788], [1659765978490, 4418.775224340094], [1659769585205, 546.5425617826542], [1659773185898, 545.7192351710004], [1659776775198, 546.9454878210827], [1659780371875, 661.741366430816], [1659783950557, 665.9194088771573], [1659787591093, 664.4661031797053], [1659791172889, 667.1132270071927], [1659794820879, 664.654691882361], [1659798406610, 664.5793082512804], [1659801985233, 167.69044053658075], [1659805571945, 165.97694894406513], [1659809175078, 165.92347146329732], [1659812774389, 1250.6616972777886], [1659816413095, 1249.0793462597017], [1659819972231, 1248.2787092330211], [1659823558925, 1248.7879825235723], [1659827194303, 1248.5859292795938], [1659830782644, 1244.49951586318], [1659834372483, 1373.7628865519368], [1659837962022, 1367.5943491211935], [1659841556022, 1368.6474845530263], [1659845168101, 1365.9569517093983], [1659848767837, 1367.8588729962673], [1659852365242, 1366.3915426471106], [1659855973394, 1376.3790405971529], [1659859574555, 1369.7554167275339], [1659863179212, 1371.658859267004], [1659866749494, 1248.0264618871197], [1659870410284, 1242.1819256726549], [1659873984762, 1248.6369853246863], [1659877568419, 1245.4192031787643], [1659881180838, 1246.3868406864788], [1659884809944, 1247.0202256564728], [1659888377871, 1246.997645779895], [1659891991623, 1249.490666091296], [1659895603453, 1253.9013353487671], [1659899192897, 157.60488385631007], [1659902776109, 158.84605940709952], [1659906407470, 158.15305817457337], [1659909998707, 236.83749972491248], [1659913577859, 234.25451444723814], [1659917268226, 2528.370088276795], [1659920811177, 2345.920267731699], [1659924371765, 2362.2118343757697], [1659927962288, 2372.0932902714026], [1659931593071, 2365.353602011261], [1659935174041, 2357.8401006811437], [1659938748374, 2366.3566293803383], [1659942353385, 2359.7876092016877], [1659945977192, 2369.863025977001], [1659949584457, 2364.773247930437], [1659953154429, 2370.8324161559094], [1659956762542, 2366.9502787004412], [1659960364515, 2860.3437420684654], [1659963959812, 2866.5034415505975], [1659967574593, 2863.2277566768053], [1659971107328, 2860.468601513861], [1659974771301, 2880.5752244801292], [1659978354625, 2885.0835608843036], [1659981972411, 2877.547194149902], [1659985555590, 2874.6640918329326], [1659989197057, 2887.7224502817485], [1659992776440, 2884.662131825511], [1659996352382, 2799.652037816155], [1659999962142, 2801.176037948201], [1660003577164, 513.4876418518155], [1660007157292, 514.5678580220876], [1660010832195, 514.7149276895263], [1660014567755, 517.0423739705737], [1660018125648, 514.4404587125422], [1660021595774, 511.3886557910079], [1660025143443, 507.9686272254698], [1660028752154, 509.96692611534104], [1660032350437, 619.8718032500524], [1660035948523, 620.3258692069859], [1660039740418, 623.9224960659315], [1660043186586, 621.3117277716685], [1660046797868, 123.6339405439238], [1660050427111, 123.630184360883], [1660054043961, 241.50005471532677], [1660057755595, 238.2473062162609], [1660061166122, 239.6272695642457], [1660064785597, 228.22027077565193], [1660068442917, 228.12303623884875], [1660071992405, 227.09065032096302], [1660075591163, 343.1932143445968], [1660079262989, 342.27066327650937], [1660082900551, 342.0611209493398], [1660086377517, 341.6905317522783], [1660089994797, 340.85765094713565], [1660093571121, 341.86491330847866], [1660097223934, 342.1449195110824], [1660100766590, 342.32221551709097], [1660104391834, 339.6430229882284], [1660111601077, 341.366214398791], [1660115227905, 5710.606059427572], [1660118766870, 5594.165527087835], [1660122520489, 5585.998720878971], [1660125976509, 5587.123790295739], [1660129580364, 5575.184933120642], [1660133173410, 5583.724225357998], [1660136792850, 5608.427053722867], [1660140390896, 5470.4547187849475], [1660144026376, 5466.1556656986695], [1660147591984, 5486.3151077653365], [1660151199201, 5498.136499976964], [1660154794274, 5466.0687912048425], [1660158417892, 5528.747008825255], [1660161990163, 5385.718133204619], [1660165608740, 5384.144798266698], [1660169176001, 5384.406439658477], [1660172815517, 5410.3581924833015], [1660176380864, 5587.0260497648105], [1660180021032, 5588.608932129233], [1660183677864, 5599.760122439355], [1660187155616, 5608.518562270212], [1660190814842, 5587.28152492239], [1660194432277, 5599.725933842997], [1660197985370, 5603.186060711211], [1660201573333, 251.10966122373645], [1660205162616, 249.61909565826184], [1660208921715, 253.76696092490062], [1660212379640, 254.16067731693042], [1660215969648, 253.6825348790897], [1660219576563, 255.00262226758096], [1660223170690, 257.23178516689586], [1660226780983, 264.19196225952373], [1660230289000, 265.0113806420464]]}\n"
          ]
        }
      ]
    },
    {
      "cell_type": "code",
      "source": [
        "#create DataFrame for NCT market chart\n",
        "# but dataframe only record price change every 1 hr\n",
        "#need to separate timestamp into a separate column/ and change it to normal timestamp\n",
        "coinDataFrame = pd.DataFrame.from_dict(NCTmarket)\n",
        "coinDataFrame"
      ],
      "metadata": {
        "colab": {
          "base_uri": "https://localhost:8080/",
          "height": 424
        },
        "id": "wuPGPoJPbjeL",
        "outputId": "c15674fd-a455-4ef8-a511-a89aef8ba98c"
      },
      "execution_count": null,
      "outputs": [
        {
          "output_type": "execute_result",
          "data": {
            "text/plain": [
              "                                  prices           market_caps  \\\n",
              "0     [1659366374757, 2.412546068777908]  [1659366374757, 0.0]   \n",
              "1      [1659369978695, 2.42675085005286]  [1659369978695, 0.0]   \n",
              "2     [1659373564643, 2.406179899163057]  [1659373564643, 0.0]   \n",
              "3    [1659377166873, 2.4173351519646133]  [1659377166873, 0.0]   \n",
              "4    [1659380789002, 2.4156340832339893]  [1659380789002, 0.0]   \n",
              "..                                   ...                   ...   \n",
              "233  [1660215969648, 2.3076743551793606]  [1660215969648, 0.0]   \n",
              "234  [1660219576563, 2.3196827964166293]  [1660219576563, 0.0]   \n",
              "235  [1660223170690, 2.3158515928590737]  [1660223170690, 0.0]   \n",
              "236  [1660226780983, 2.3071984610663403]  [1660226780983, 0.0]   \n",
              "237  [1660230289000, 2.3143475328856806]  [1660230289000, 0.0]   \n",
              "\n",
              "                           total_volumes  \n",
              "0    [1659366374757, 125.04558066279412]  \n",
              "1    [1659369978695, 125.78183401177749]  \n",
              "2    [1659373564643, 175.93369870683097]  \n",
              "3    [1659377166873, 176.74934216144968]  \n",
              "4    [1659380789002, 176.62496438170115]  \n",
              "..                                   ...  \n",
              "233   [1660215969648, 253.6825348790897]  \n",
              "234  [1660219576563, 255.00262226758096]  \n",
              "235  [1660223170690, 257.23178516689586]  \n",
              "236  [1660226780983, 264.19196225952373]  \n",
              "237   [1660230289000, 265.0113806420464]  \n",
              "\n",
              "[238 rows x 3 columns]"
            ],
            "text/html": [
              "\n",
              "  <div id=\"df-ff8eea86-c1e1-4798-acfc-3eddea47470c\">\n",
              "    <div class=\"colab-df-container\">\n",
              "      <div>\n",
              "<style scoped>\n",
              "    .dataframe tbody tr th:only-of-type {\n",
              "        vertical-align: middle;\n",
              "    }\n",
              "\n",
              "    .dataframe tbody tr th {\n",
              "        vertical-align: top;\n",
              "    }\n",
              "\n",
              "    .dataframe thead th {\n",
              "        text-align: right;\n",
              "    }\n",
              "</style>\n",
              "<table border=\"1\" class=\"dataframe\">\n",
              "  <thead>\n",
              "    <tr style=\"text-align: right;\">\n",
              "      <th></th>\n",
              "      <th>prices</th>\n",
              "      <th>market_caps</th>\n",
              "      <th>total_volumes</th>\n",
              "    </tr>\n",
              "  </thead>\n",
              "  <tbody>\n",
              "    <tr>\n",
              "      <th>0</th>\n",
              "      <td>[1659366374757, 2.412546068777908]</td>\n",
              "      <td>[1659366374757, 0.0]</td>\n",
              "      <td>[1659366374757, 125.04558066279412]</td>\n",
              "    </tr>\n",
              "    <tr>\n",
              "      <th>1</th>\n",
              "      <td>[1659369978695, 2.42675085005286]</td>\n",
              "      <td>[1659369978695, 0.0]</td>\n",
              "      <td>[1659369978695, 125.78183401177749]</td>\n",
              "    </tr>\n",
              "    <tr>\n",
              "      <th>2</th>\n",
              "      <td>[1659373564643, 2.406179899163057]</td>\n",
              "      <td>[1659373564643, 0.0]</td>\n",
              "      <td>[1659373564643, 175.93369870683097]</td>\n",
              "    </tr>\n",
              "    <tr>\n",
              "      <th>3</th>\n",
              "      <td>[1659377166873, 2.4173351519646133]</td>\n",
              "      <td>[1659377166873, 0.0]</td>\n",
              "      <td>[1659377166873, 176.74934216144968]</td>\n",
              "    </tr>\n",
              "    <tr>\n",
              "      <th>4</th>\n",
              "      <td>[1659380789002, 2.4156340832339893]</td>\n",
              "      <td>[1659380789002, 0.0]</td>\n",
              "      <td>[1659380789002, 176.62496438170115]</td>\n",
              "    </tr>\n",
              "    <tr>\n",
              "      <th>...</th>\n",
              "      <td>...</td>\n",
              "      <td>...</td>\n",
              "      <td>...</td>\n",
              "    </tr>\n",
              "    <tr>\n",
              "      <th>233</th>\n",
              "      <td>[1660215969648, 2.3076743551793606]</td>\n",
              "      <td>[1660215969648, 0.0]</td>\n",
              "      <td>[1660215969648, 253.6825348790897]</td>\n",
              "    </tr>\n",
              "    <tr>\n",
              "      <th>234</th>\n",
              "      <td>[1660219576563, 2.3196827964166293]</td>\n",
              "      <td>[1660219576563, 0.0]</td>\n",
              "      <td>[1660219576563, 255.00262226758096]</td>\n",
              "    </tr>\n",
              "    <tr>\n",
              "      <th>235</th>\n",
              "      <td>[1660223170690, 2.3158515928590737]</td>\n",
              "      <td>[1660223170690, 0.0]</td>\n",
              "      <td>[1660223170690, 257.23178516689586]</td>\n",
              "    </tr>\n",
              "    <tr>\n",
              "      <th>236</th>\n",
              "      <td>[1660226780983, 2.3071984610663403]</td>\n",
              "      <td>[1660226780983, 0.0]</td>\n",
              "      <td>[1660226780983, 264.19196225952373]</td>\n",
              "    </tr>\n",
              "    <tr>\n",
              "      <th>237</th>\n",
              "      <td>[1660230289000, 2.3143475328856806]</td>\n",
              "      <td>[1660230289000, 0.0]</td>\n",
              "      <td>[1660230289000, 265.0113806420464]</td>\n",
              "    </tr>\n",
              "  </tbody>\n",
              "</table>\n",
              "<p>238 rows × 3 columns</p>\n",
              "</div>\n",
              "      <button class=\"colab-df-convert\" onclick=\"convertToInteractive('df-ff8eea86-c1e1-4798-acfc-3eddea47470c')\"\n",
              "              title=\"Convert this dataframe to an interactive table.\"\n",
              "              style=\"display:none;\">\n",
              "        \n",
              "  <svg xmlns=\"http://www.w3.org/2000/svg\" height=\"24px\"viewBox=\"0 0 24 24\"\n",
              "       width=\"24px\">\n",
              "    <path d=\"M0 0h24v24H0V0z\" fill=\"none\"/>\n",
              "    <path d=\"M18.56 5.44l.94 2.06.94-2.06 2.06-.94-2.06-.94-.94-2.06-.94 2.06-2.06.94zm-11 1L8.5 8.5l.94-2.06 2.06-.94-2.06-.94L8.5 2.5l-.94 2.06-2.06.94zm10 10l.94 2.06.94-2.06 2.06-.94-2.06-.94-.94-2.06-.94 2.06-2.06.94z\"/><path d=\"M17.41 7.96l-1.37-1.37c-.4-.4-.92-.59-1.43-.59-.52 0-1.04.2-1.43.59L10.3 9.45l-7.72 7.72c-.78.78-.78 2.05 0 2.83L4 21.41c.39.39.9.59 1.41.59.51 0 1.02-.2 1.41-.59l7.78-7.78 2.81-2.81c.8-.78.8-2.07 0-2.86zM5.41 20L4 18.59l7.72-7.72 1.47 1.35L5.41 20z\"/>\n",
              "  </svg>\n",
              "      </button>\n",
              "      \n",
              "  <style>\n",
              "    .colab-df-container {\n",
              "      display:flex;\n",
              "      flex-wrap:wrap;\n",
              "      gap: 12px;\n",
              "    }\n",
              "\n",
              "    .colab-df-convert {\n",
              "      background-color: #E8F0FE;\n",
              "      border: none;\n",
              "      border-radius: 50%;\n",
              "      cursor: pointer;\n",
              "      display: none;\n",
              "      fill: #1967D2;\n",
              "      height: 32px;\n",
              "      padding: 0 0 0 0;\n",
              "      width: 32px;\n",
              "    }\n",
              "\n",
              "    .colab-df-convert:hover {\n",
              "      background-color: #E2EBFA;\n",
              "      box-shadow: 0px 1px 2px rgba(60, 64, 67, 0.3), 0px 1px 3px 1px rgba(60, 64, 67, 0.15);\n",
              "      fill: #174EA6;\n",
              "    }\n",
              "\n",
              "    [theme=dark] .colab-df-convert {\n",
              "      background-color: #3B4455;\n",
              "      fill: #D2E3FC;\n",
              "    }\n",
              "\n",
              "    [theme=dark] .colab-df-convert:hover {\n",
              "      background-color: #434B5C;\n",
              "      box-shadow: 0px 1px 3px 1px rgba(0, 0, 0, 0.15);\n",
              "      filter: drop-shadow(0px 1px 2px rgba(0, 0, 0, 0.3));\n",
              "      fill: #FFFFFF;\n",
              "    }\n",
              "  </style>\n",
              "\n",
              "      <script>\n",
              "        const buttonEl =\n",
              "          document.querySelector('#df-ff8eea86-c1e1-4798-acfc-3eddea47470c button.colab-df-convert');\n",
              "        buttonEl.style.display =\n",
              "          google.colab.kernel.accessAllowed ? 'block' : 'none';\n",
              "\n",
              "        async function convertToInteractive(key) {\n",
              "          const element = document.querySelector('#df-ff8eea86-c1e1-4798-acfc-3eddea47470c');\n",
              "          const dataTable =\n",
              "            await google.colab.kernel.invokeFunction('convertToInteractive',\n",
              "                                                     [key], {});\n",
              "          if (!dataTable) return;\n",
              "\n",
              "          const docLinkHtml = 'Like what you see? Visit the ' +\n",
              "            '<a target=\"_blank\" href=https://colab.research.google.com/notebooks/data_table.ipynb>data table notebook</a>'\n",
              "            + ' to learn more about interactive tables.';\n",
              "          element.innerHTML = '';\n",
              "          dataTable['output_type'] = 'display_data';\n",
              "          await google.colab.output.renderOutput(dataTable, element);\n",
              "          const docLink = document.createElement('div');\n",
              "          docLink.innerHTML = docLinkHtml;\n",
              "          element.appendChild(docLink);\n",
              "        }\n",
              "      </script>\n",
              "    </div>\n",
              "  </div>\n",
              "  "
            ]
          },
          "metadata": {},
          "execution_count": 25
        }
      ]
    },
    {
      "cell_type": "code",
      "source": [
        "PriceRequest = data.get_price(ids='toucan-protocol-nature-carbon-tonne', vs_currencies = 'usd', include_market_cap = True, include_24hr_vol = True, include_24hr_change = True, include_last_updated_at = True)\n",
        "print(PriceRequest)"
      ],
      "metadata": {
        "colab": {
          "base_uri": "https://localhost:8080/"
        },
        "id": "_y0lrUH2j8Jk",
        "outputId": "4abaf653-4360-42b2-f1a8-fa1b570433db"
      },
      "execution_count": null,
      "outputs": [
        {
          "output_type": "stream",
          "name": "stdout",
          "text": [
            "{'toucan-protocol-nature-carbon-tonne': {'usd': 2.32, 'usd_market_cap': 0.0, 'usd_24h_vol': 265.1553223541727, 'usd_24h_change': 0.5120585175151109, 'last_updated_at': 1660228850}}\n"
          ]
        }
      ]
    },
    {
      "cell_type": "code",
      "source": [],
      "metadata": {
        "id": "DQHhRsWmXebp"
      },
      "execution_count": null,
      "outputs": []
    },
    {
      "cell_type": "markdown",
      "source": [
        "# Store price/Timestamp for 1m:"
      ],
      "metadata": {
        "id": "dmU3kd0IhBeR"
      }
    },
    {
      "cell_type": "code",
      "source": [
        "#need to use pickles (pickle is a process of converting a Python object into a byte stream to store it in a file/database) \n",
        "#create a database(to store timestamps, and NCT price movements)\n",
        "#create an automatic system to query API and update new data"
      ],
      "metadata": {
        "id": "GPaVV2w9GidL"
      },
      "execution_count": null,
      "outputs": []
    },
    {
      "cell_type": "code",
      "source": [
        "#import all the important platforms\n",
        "import pickle\n",
        "import numpy as np\n",
        "import sqlite3\n",
        "import pandas as pd\n",
        "import sqlalchemy\n"
      ],
      "metadata": {
        "id": "dTqHW3cjOCOP"
      },
      "execution_count": null,
      "outputs": []
    },
    {
      "cell_type": "code",
      "source": [
        "df.head()"
      ],
      "metadata": {
        "colab": {
          "base_uri": "https://localhost:8080/",
          "height": 143
        },
        "id": "_aPU68p9shdi",
        "outputId": "af7e6f12-a31f-4ed0-eaec-9071a73a675a"
      },
      "execution_count": null,
      "outputs": [
        {
          "output_type": "execute_result",
          "data": {
            "text/plain": [
              "                   Datetime      Open      High       Low     Close  \\\n",
              "0  2022-08-12T19:51:00.000Z  2.307072  2.307072  2.307072  2.307072   \n",
              "1  2022-08-13T15:13:00.000Z  2.302455  2.302455  2.302455  2.302455   \n",
              "2  2022-08-13T15:13:00.000Z  2.302455  2.302455  2.302455  2.302455   \n",
              "\n",
              "       Volume     Time of Request Token_ID    Pool_ID Resolution  \n",
              "0  184.071002 2022-08-15 13:29:00  2609763  148205730          1  \n",
              "1  216.471919 2022-08-15 13:30:00  2609763  148205730          1  \n",
              "2  216.471919 2022-08-15 13:31:00  2609763  148205730          1  "
            ],
            "text/html": [
              "\n",
              "  <div id=\"df-20a2032b-ab9e-4c9b-9115-b374167fd42a\">\n",
              "    <div class=\"colab-df-container\">\n",
              "      <div>\n",
              "<style scoped>\n",
              "    .dataframe tbody tr th:only-of-type {\n",
              "        vertical-align: middle;\n",
              "    }\n",
              "\n",
              "    .dataframe tbody tr th {\n",
              "        vertical-align: top;\n",
              "    }\n",
              "\n",
              "    .dataframe thead th {\n",
              "        text-align: right;\n",
              "    }\n",
              "</style>\n",
              "<table border=\"1\" class=\"dataframe\">\n",
              "  <thead>\n",
              "    <tr style=\"text-align: right;\">\n",
              "      <th></th>\n",
              "      <th>Datetime</th>\n",
              "      <th>Open</th>\n",
              "      <th>High</th>\n",
              "      <th>Low</th>\n",
              "      <th>Close</th>\n",
              "      <th>Volume</th>\n",
              "      <th>Time of Request</th>\n",
              "      <th>Token_ID</th>\n",
              "      <th>Pool_ID</th>\n",
              "      <th>Resolution</th>\n",
              "    </tr>\n",
              "  </thead>\n",
              "  <tbody>\n",
              "    <tr>\n",
              "      <th>0</th>\n",
              "      <td>2022-08-12T19:51:00.000Z</td>\n",
              "      <td>2.307072</td>\n",
              "      <td>2.307072</td>\n",
              "      <td>2.307072</td>\n",
              "      <td>2.307072</td>\n",
              "      <td>184.071002</td>\n",
              "      <td>2022-08-15 13:29:00</td>\n",
              "      <td>2609763</td>\n",
              "      <td>148205730</td>\n",
              "      <td>1</td>\n",
              "    </tr>\n",
              "    <tr>\n",
              "      <th>1</th>\n",
              "      <td>2022-08-13T15:13:00.000Z</td>\n",
              "      <td>2.302455</td>\n",
              "      <td>2.302455</td>\n",
              "      <td>2.302455</td>\n",
              "      <td>2.302455</td>\n",
              "      <td>216.471919</td>\n",
              "      <td>2022-08-15 13:30:00</td>\n",
              "      <td>2609763</td>\n",
              "      <td>148205730</td>\n",
              "      <td>1</td>\n",
              "    </tr>\n",
              "    <tr>\n",
              "      <th>2</th>\n",
              "      <td>2022-08-13T15:13:00.000Z</td>\n",
              "      <td>2.302455</td>\n",
              "      <td>2.302455</td>\n",
              "      <td>2.302455</td>\n",
              "      <td>2.302455</td>\n",
              "      <td>216.471919</td>\n",
              "      <td>2022-08-15 13:31:00</td>\n",
              "      <td>2609763</td>\n",
              "      <td>148205730</td>\n",
              "      <td>1</td>\n",
              "    </tr>\n",
              "  </tbody>\n",
              "</table>\n",
              "</div>\n",
              "      <button class=\"colab-df-convert\" onclick=\"convertToInteractive('df-20a2032b-ab9e-4c9b-9115-b374167fd42a')\"\n",
              "              title=\"Convert this dataframe to an interactive table.\"\n",
              "              style=\"display:none;\">\n",
              "        \n",
              "  <svg xmlns=\"http://www.w3.org/2000/svg\" height=\"24px\"viewBox=\"0 0 24 24\"\n",
              "       width=\"24px\">\n",
              "    <path d=\"M0 0h24v24H0V0z\" fill=\"none\"/>\n",
              "    <path d=\"M18.56 5.44l.94 2.06.94-2.06 2.06-.94-2.06-.94-.94-2.06-.94 2.06-2.06.94zm-11 1L8.5 8.5l.94-2.06 2.06-.94-2.06-.94L8.5 2.5l-.94 2.06-2.06.94zm10 10l.94 2.06.94-2.06 2.06-.94-2.06-.94-.94-2.06-.94 2.06-2.06.94z\"/><path d=\"M17.41 7.96l-1.37-1.37c-.4-.4-.92-.59-1.43-.59-.52 0-1.04.2-1.43.59L10.3 9.45l-7.72 7.72c-.78.78-.78 2.05 0 2.83L4 21.41c.39.39.9.59 1.41.59.51 0 1.02-.2 1.41-.59l7.78-7.78 2.81-2.81c.8-.78.8-2.07 0-2.86zM5.41 20L4 18.59l7.72-7.72 1.47 1.35L5.41 20z\"/>\n",
              "  </svg>\n",
              "      </button>\n",
              "      \n",
              "  <style>\n",
              "    .colab-df-container {\n",
              "      display:flex;\n",
              "      flex-wrap:wrap;\n",
              "      gap: 12px;\n",
              "    }\n",
              "\n",
              "    .colab-df-convert {\n",
              "      background-color: #E8F0FE;\n",
              "      border: none;\n",
              "      border-radius: 50%;\n",
              "      cursor: pointer;\n",
              "      display: none;\n",
              "      fill: #1967D2;\n",
              "      height: 32px;\n",
              "      padding: 0 0 0 0;\n",
              "      width: 32px;\n",
              "    }\n",
              "\n",
              "    .colab-df-convert:hover {\n",
              "      background-color: #E2EBFA;\n",
              "      box-shadow: 0px 1px 2px rgba(60, 64, 67, 0.3), 0px 1px 3px 1px rgba(60, 64, 67, 0.15);\n",
              "      fill: #174EA6;\n",
              "    }\n",
              "\n",
              "    [theme=dark] .colab-df-convert {\n",
              "      background-color: #3B4455;\n",
              "      fill: #D2E3FC;\n",
              "    }\n",
              "\n",
              "    [theme=dark] .colab-df-convert:hover {\n",
              "      background-color: #434B5C;\n",
              "      box-shadow: 0px 1px 3px 1px rgba(0, 0, 0, 0.15);\n",
              "      filter: drop-shadow(0px 1px 2px rgba(0, 0, 0, 0.3));\n",
              "      fill: #FFFFFF;\n",
              "    }\n",
              "  </style>\n",
              "\n",
              "      <script>\n",
              "        const buttonEl =\n",
              "          document.querySelector('#df-20a2032b-ab9e-4c9b-9115-b374167fd42a button.colab-df-convert');\n",
              "        buttonEl.style.display =\n",
              "          google.colab.kernel.accessAllowed ? 'block' : 'none';\n",
              "\n",
              "        async function convertToInteractive(key) {\n",
              "          const element = document.querySelector('#df-20a2032b-ab9e-4c9b-9115-b374167fd42a');\n",
              "          const dataTable =\n",
              "            await google.colab.kernel.invokeFunction('convertToInteractive',\n",
              "                                                     [key], {});\n",
              "          if (!dataTable) return;\n",
              "\n",
              "          const docLinkHtml = 'Like what you see? Visit the ' +\n",
              "            '<a target=\"_blank\" href=https://colab.research.google.com/notebooks/data_table.ipynb>data table notebook</a>'\n",
              "            + ' to learn more about interactive tables.';\n",
              "          element.innerHTML = '';\n",
              "          dataTable['output_type'] = 'display_data';\n",
              "          await google.colab.output.renderOutput(dataTable, element);\n",
              "          const docLink = document.createElement('div');\n",
              "          docLink.innerHTML = docLinkHtml;\n",
              "          element.appendChild(docLink);\n",
              "        }\n",
              "      </script>\n",
              "    </div>\n",
              "  </div>\n",
              "  "
            ]
          },
          "metadata": {},
          "execution_count": 59
        }
      ]
    },
    {
      "cell_type": "code",
      "source": [
        "#database part\n",
        "conn = sqlite3.connect('NCT.db')\n",
        "cur =conn.cursor()\n",
        "print(\"Opened database successfully;\")\n"
      ],
      "metadata": {
        "colab": {
          "base_uri": "https://localhost:8080/"
        },
        "id": "VnRd448nLsYp",
        "outputId": "4291d69c-5f77-4180-ce88-c1b222e0f7f6"
      },
      "execution_count": null,
      "outputs": [
        {
          "output_type": "stream",
          "name": "stdout",
          "text": [
            "Opened database successfully;\n"
          ]
        }
      ]
    },
    {
      "cell_type": "code",
      "source": [
        "conn.execute('''CREATE TABLE Chart\n",
        "         (DATETIME       INT     NOT NULL,\n",
        "         OPEN           FLOAT    NOT NULL,\n",
        "         HIGH          FLOAT     NOT NULL,\n",
        "         LOW         FLOAT,\n",
        "         CLOSE       FLOAT,\n",
        "         VOLUME      FLOAT,\n",
        "         TIME OF REQUEST      TEXT,\n",
        "         TOKEN_ID          INT,\n",
        "         POOL_ID           INT,\n",
        "         RESOLUTION        INT);''')\n",
        "print (\"Table created successfully;\")\n",
        "conn.close()\n"
      ],
      "metadata": {
        "colab": {
          "base_uri": "https://localhost:8080/",
          "height": 304
        },
        "id": "RjNpQKEtG5yT",
        "outputId": "161a89eb-521d-44ab-bf70-1b45bccc0aa2"
      },
      "execution_count": null,
      "outputs": [
        {
          "output_type": "stream",
          "name": "stderr",
          "text": [
            "ERROR:root:An unexpected error occurred while tokenizing input\n",
            "The following traceback may be corrupted or invalid\n",
            "The error message is: ('EOF in multi-line string', (1, 32))\n",
            "\n"
          ]
        },
        {
          "output_type": "error",
          "ename": "OperationalError",
          "evalue": "ignored",
          "traceback": [
            "\u001b[0;31m---------------------------------------------------------------------------\u001b[0m",
            "\u001b[0;31mOperationalError\u001b[0m                          Traceback (most recent call last)",
            "\u001b[0;32m<ipython-input-90-21770e0e7659>\u001b[0m in \u001b[0;36m<module>\u001b[0;34m()\u001b[0m\n\u001b[1;32m      9\u001b[0m          \u001b[0mTOKEN_ID\u001b[0m          \u001b[0mINT\u001b[0m\u001b[0;34m,\u001b[0m\u001b[0;34m\u001b[0m\u001b[0;34m\u001b[0m\u001b[0m\n\u001b[1;32m     10\u001b[0m          \u001b[0mPOOL_ID\u001b[0m           \u001b[0mINT\u001b[0m\u001b[0;34m,\u001b[0m\u001b[0;34m\u001b[0m\u001b[0;34m\u001b[0m\u001b[0m\n\u001b[0;32m---> 11\u001b[0;31m          RESOLUTION        INT);''')\n\u001b[0m\u001b[1;32m     12\u001b[0m \u001b[0mprint\u001b[0m \u001b[0;34m(\u001b[0m\u001b[0;34m\"Table created successfully;\"\u001b[0m\u001b[0;34m)\u001b[0m\u001b[0;34m\u001b[0m\u001b[0;34m\u001b[0m\u001b[0m\n\u001b[1;32m     13\u001b[0m \u001b[0mconn\u001b[0m\u001b[0;34m.\u001b[0m\u001b[0mclose\u001b[0m\u001b[0;34m(\u001b[0m\u001b[0;34m)\u001b[0m\u001b[0;34m\u001b[0m\u001b[0;34m\u001b[0m\u001b[0m\n",
            "\u001b[0;31mOperationalError\u001b[0m: table Chart already exists"
          ]
        }
      ]
    },
    {
      "cell_type": "markdown",
      "source": [
        "Another way\n"
      ],
      "metadata": {
        "id": "PaVoGZ7LLqRC"
      }
    },
    {
      "cell_type": "code",
      "source": [
        "for row in df.itertuples():\n",
        "    insert_sql =f\"INSERT INTO Chart (DATETIME, OPEN, HIGH, LOW, CLOSE, VOLUME, TIME OF REQUEST, TOKEN_ID, POOL_ID, RESOLUTION) VALUES ({row[1]}, {row[2]}, {row[3]}, {row[4]}, {row[5]}, {row[6]}, {row[7]}, {row[8]}, {row[9]}, {row[10]})\"\n",
        "    conn.execute(insert_sql)"
      ],
      "metadata": {
        "id": "ypjgqbHqZRB8"
      },
      "execution_count": null,
      "outputs": []
    },
    {
      "cell_type": "code",
      "source": [
        "df.to_sql(name=\"NCT price chart\", con=conn, if_exists='replace', index=False)"
      ],
      "metadata": {
        "id": "SK8TGVGp77Rl"
      },
      "execution_count": null,
      "outputs": []
    },
    {
      "cell_type": "code",
      "source": [
        "conn.commit()"
      ],
      "metadata": {
        "id": "B9aK7lUj79S6"
      },
      "execution_count": null,
      "outputs": []
    },
    {
      "cell_type": "code",
      "source": [],
      "metadata": {
        "id": "OhmX4c9a2w0H"
      },
      "execution_count": null,
      "outputs": []
    },
    {
      "cell_type": "markdown",
      "source": [
        "# Historical Database for 1W, 1M, 1Y\n"
      ],
      "metadata": {
        "id": "wCW3nQ40hB1J"
      }
    },
    {
      "cell_type": "code",
      "source": [],
      "metadata": {
        "id": "EUBDCDqwGhxQ"
      },
      "execution_count": null,
      "outputs": []
    }
  ]
}